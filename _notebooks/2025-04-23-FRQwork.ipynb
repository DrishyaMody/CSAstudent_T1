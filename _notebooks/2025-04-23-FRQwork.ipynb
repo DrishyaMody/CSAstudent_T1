{
 "cells": [
  {
   "cell_type": "markdown",
   "id": "e0cb7334",
   "metadata": {},
   "source": [
    "---\n",
    "layout: post\n",
    "title: Solving AP CSA FRQs – Word Scrambler & Mountain Logic\n",
    "comments: true\n",
    "permalink: /ap-csa-frq-solutions\n",
    "---\n",
    "\n",
    "# 🧠 AP Computer Science A – FRQ Practice Solutions\n",
    "\n",
    "This post walks through two typical FRQ problems from the AP CSA exam:  \n",
    "- 🧩 String manipulation and arrays (WordScrambler)  \n",
    "- ⛰️ Array analysis and conditions (Mountain detection)\n",
    "\n",
    "Each solution is explained with logic and then implemented in full Java code.\n",
    "\n",
    "---\n",
    "## QUESTION 1\n",
    "## 🔤 WordScrambler Class\n",
    "\n",
    "### (a) `recombine(String word1, String word2)`\n",
    "\n",
    "**Goal**:  \n",
    "Take the first half of `word1` and the second half of `word2`, then combine them.\n",
    "\n",
    "**Important Rule**:  \n",
    "If a word has an odd number of letters, the extra letter goes to the **second half**."
   ]
  },
  {
   "cell_type": "code",
   "execution_count": 2,
   "id": "bf29b1ac",
   "metadata": {
    "vscode": {
     "languageId": "java"
    }
   },
   "outputs": [
    {
     "name": "stdout",
     "output_type": "stream",
     "text": [
      "appar\n",
      "peple\n"
     ]
    }
   ],
   "source": [
    "public class WordScrambler {\n",
    "    public static String recombine(String word1, String word2) {\n",
    "        int mid1 = word1.length() / 2;\n",
    "        int mid2 = word2.length() / 2;\n",
    "\n",
    "        if (word1.length() % 2 != 0) mid1++;\n",
    "        String firstHalf = word1.substring(0, mid1);\n",
    "        String secondHalf = word2.substring(mid2);\n",
    "\n",
    "        return firstHalf + secondHalf;\n",
    "    }\n",
    "\n",
    "    public static void main(String[] args) {\n",
    "        System.out.println(recombine(\"apple\", \"pear\"));  // Expected: apar\n",
    "        System.out.println(recombine(\"pear\", \"apple\"));  // Expected: peple\n",
    "    }\n",
    "}\n",
    "WordScrambler.main(null);\n"
   ]
  },
  {
   "cell_type": "markdown",
   "id": "475f8a39",
   "metadata": {},
   "source": [
    "### 🔤 Part B – mixedWords(String[] words)\n",
    "\n",
    "Takes pairs of strings from an array and recombines them using the `recombine()` method.\n"
   ]
  },
  {
   "cell_type": "code",
   "execution_count": 3,
   "id": "70235ba4",
   "metadata": {
    "vscode": {
     "languageId": "java"
    }
   },
   "outputs": [
    {
     "name": "stdout",
     "output_type": "stream",
     "text": [
      "appar\n",
      "peple\n",
      "that\n",
      "cais\n"
     ]
    }
   ],
   "source": [
    "public class WordScrambler {\n",
    "    public static String recombine(String word1, String word2) {\n",
    "        int mid1 = word1.length() / 2;\n",
    "        int mid2 = word2.length() / 2;\n",
    "        if (word1.length() % 2 != 0) mid1++;\n",
    "        String firstHalf = word1.substring(0, mid1);\n",
    "        String secondHalf = word2.substring(mid2);\n",
    "        return firstHalf + secondHalf;\n",
    "    }\n",
    "\n",
    "    public static String[] mixedWords(String[] words) {\n",
    "        String[] result = new String[words.length];\n",
    "        for (int i = 0; i < words.length; i += 2) {\n",
    "            result[i] = recombine(words[i], words[i + 1]);\n",
    "            result[i + 1] = recombine(words[i + 1], words[i]);\n",
    "        }\n",
    "        return result;\n",
    "    }\n",
    "\n",
    "    public static void main(String[] args) {\n",
    "        String[] input = {\"apple\", \"pear\", \"this\", \"cat\"};\n",
    "        String[] output = mixedWords(input);\n",
    "        for (String word : output) {\n",
    "            System.out.println(word);  // Expected: apar, peple, that, cis\n",
    "        }\n",
    "    }\n",
    "}\n",
    "WordScrambler.main(null);\n"
   ]
  },
  {
   "cell_type": "markdown",
   "id": "ec078b60",
   "metadata": {},
   "source": [
    "## QUESTION 2\n",
    "### ⛰️ Part A – getPeakIndex(int[] array)\n",
    "\n",
    "Returns the index of the **first peak** element (greater than both neighbors).  \n",
    "Returns -1 if no peak exists.\n",
    "\n"
   ]
  },
  {
   "cell_type": "code",
   "execution_count": 4,
   "id": "d8fbe90e",
   "metadata": {
    "vscode": {
     "languageId": "java"
    }
   },
   "outputs": [
    {
     "name": "stdout",
     "output_type": "stream",
     "text": [
      "2\n",
      "1\n",
      "-1\n"
     ]
    }
   ],
   "source": [
    "public class Mountain {\n",
    "    public static int getPeakIndex(int[] array) {\n",
    "        for (int i = 1; i < array.length - 1; i++) {\n",
    "            if (array[i] > array[i - 1] && array[i] > array[i + 1]) {\n",
    "                return i;\n",
    "            }\n",
    "        }\n",
    "        return -1;\n",
    "    }\n",
    "\n",
    "    public static void main(String[] args) {\n",
    "        int[] test1 = {11, 22, 33, 22, 11};   // Expected: 2\n",
    "        int[] test2 = {11, 22, 11, 22, 11};   // Expected: 1\n",
    "        int[] test3 = {11, 22, 33, 55, 77};   // Expected: -1\n",
    "\n",
    "        System.out.println(getPeakIndex(test1));\n",
    "        System.out.println(getPeakIndex(test2));\n",
    "        System.out.println(getPeakIndex(test3));\n",
    "    }\n",
    "}\n",
    "Mountain.main(null);\n"
   ]
  },
  {
   "cell_type": "markdown",
   "id": "6dc90f82",
   "metadata": {},
   "source": [
    "### ⛰️ Part B – isMountain(int[] array)\n",
    "\n",
    "Checks if an array is in the shape of a mountain:\n",
    "- Must have a peak\n",
    "- Elements before the peak must increase\n",
    "- Elements after the peak must decrease\n"
   ]
  },
  {
   "cell_type": "code",
   "execution_count": 5,
   "id": "47f77b4e",
   "metadata": {
    "vscode": {
     "languageId": "java"
    }
   },
   "outputs": [
    {
     "name": "stdout",
     "output_type": "stream",
     "text": [
      "true\n",
      "false\n",
      "false\n",
      "true\n"
     ]
    }
   ],
   "source": [
    "public class Mountain {\n",
    "    public static int getPeakIndex(int[] array) {\n",
    "        for (int i = 1; i < array.length - 1; i++) {\n",
    "            if (array[i] > array[i - 1] && array[i] > array[i + 1]) {\n",
    "                return i;\n",
    "            }\n",
    "        }\n",
    "        return -1;\n",
    "    }\n",
    "\n",
    "    public static boolean isMountain(int[] array) {\n",
    "        int peak = getPeakIndex(array);\n",
    "        if (peak == -1 || peak == 0 || peak == array.length - 1) return false;\n",
    "\n",
    "        for (int i = 0; i < peak; i++) {\n",
    "            if (array[i] >= array[i + 1]) return false;\n",
    "        }\n",
    "\n",
    "        for (int i = peak; i < array.length - 1; i++) {\n",
    "            if (array[i] <= array[i + 1]) return false;\n",
    "        }\n",
    "\n",
    "        return true;\n",
    "    }\n",
    "\n",
    "    public static void main(String[] args) {\n",
    "        int[] a = {1, 2, 3, 2, 1};   // true\n",
    "        int[] b = {1, 2, 1, 2, 1};   // false\n",
    "        int[] c = {1, 2, 3, 1, 5};   // false\n",
    "        int[] d = {1, 4, 2, 1, 0};   // true\n",
    "\n",
    "        System.out.println(isMountain(a));\n",
    "        System.out.println(isMountain(b));\n",
    "        System.out.println(isMountain(c));\n",
    "        System.out.println(isMountain(d));\n",
    "    }\n",
    "}\n",
    "Mountain.main(null);\n"
   ]
  },
  {
   "cell_type": "markdown",
   "id": "8e263cc8",
   "metadata": {},
   "source": [
    "## QUESTION 3\n",
    "This method returns a new temperature for a specific cell in a 2D array of temperatures.  \n",
    "- If the cell is on the **border**, return the original value.  \n",
    "- If the cell is in the middle, return the **average of the 4 adjacent cells** (up, down, left, right).\n"
   ]
  },
  {
   "cell_type": "code",
   "execution_count": 6,
   "id": "6c7d78e9",
   "metadata": {
    "vscode": {
     "languageId": "java"
    }
   },
   "outputs": [
    {
     "name": "stdout",
     "output_type": "stream",
     "text": [
      "37.5\n",
      "47.5\n",
      "100.0\n",
      "60.0\n"
     ]
    }
   ],
   "source": [
    "public class TempGrid {\n",
    "    private static double[][] temps = {\n",
    "        {95.5, 100.0, 100.0, 100.0, 100.0, 110.3},\n",
    "        {0.0, 50.0, 50.0, 50.0, 50.0, 0.0},\n",
    "        {0.0, 40.0, 40.0, 40.0, 40.0, 0.0},\n",
    "        {0.0, 20.0, 20.0, 20.0, 20.0, 0.0},\n",
    "        {0.0,  0.0,  0.0,  0.0,  0.0, 0.0}\n",
    "    };\n",
    "\n",
    "    public static double computeTemp(int row, int col) {\n",
    "        if (row == 0 || row == temps.length - 1 || col == 0 || col == temps[0].length - 1) {\n",
    "            return temps[row][col];\n",
    "        }\n",
    "\n",
    "        double up = temps[row - 1][col];\n",
    "        double down = temps[row + 1][col];\n",
    "        double left = temps[row][col - 1];\n",
    "        double right = temps[row][col + 1];\n",
    "\n",
    "        return (up + down + left + right) / 4.0;\n",
    "    }\n",
    "\n",
    "    public static void main(String[] args) {\n",
    "        System.out.println(computeTemp(2, 3));  // Expected: 37.5\n",
    "        System.out.println(computeTemp(1, 1));  // Expected: 47.5\n",
    "        System.out.println(computeTemp(0, 2));  // Expected: 100.0\n",
    "        System.out.println(computeTemp(1, 3));  // Expected: 60.0\n",
    "    }\n",
    "}\n",
    "TempGrid.main(null);\n"
   ]
  },
  {
   "cell_type": "markdown",
   "id": "f32434a5",
   "metadata": {},
   "source": [
    "# Part B\n",
    "This method updates all values in the 2D array using `computeTemp`.  \n",
    "It returns true if all the new values are within the `tolerance` of the original values.  \n",
    "Otherwise, it returns false and still updates `temps`.\n"
   ]
  },
  {
   "cell_type": "code",
   "execution_count": 7,
   "id": "0bdad3d5",
   "metadata": {
    "vscode": {
     "languageId": "java"
    }
   },
   "outputs": [
    {
     "name": "stdout",
     "output_type": "stream",
     "text": [
      "Before update:\n",
      "  95.5  100.0  100.0  100.0  100.0  110.3 \n",
      "   0.0   50.0   50.0   50.0   50.0    0.0 \n",
      "   0.0   40.0   40.0   40.0   40.0    0.0 \n",
      "   0.0   20.0   20.0   20.0   20.0    0.0 \n",
      "   0.0    0.0    0.0    0.0    0.0    0.0 \n",
      "\n",
      "After update:\n",
      "  95.5  100.0  100.0  100.0  100.0  110.3 \n",
      "   0.0   47.5   60.0   60.0   47.5    0.0 \n",
      "   0.0   27.5   37.5   37.5   27.5    0.0 \n",
      "   0.0   15.0   20.0   20.0   15.0    0.0 \n",
      "   0.0    0.0    0.0    0.0    0.0    0.0 \n",
      "\n",
      "All within tolerance: false\n"
     ]
    }
   ],
   "source": [
    "public class TempGrid {\n",
    "    private static double[][] temps = {\n",
    "        {95.5, 100.0, 100.0, 100.0, 100.0, 110.3},\n",
    "        {0.0, 50.0, 50.0, 50.0, 50.0, 0.0},\n",
    "        {0.0, 40.0, 40.0, 40.0, 40.0, 0.0},\n",
    "        {0.0, 20.0, 20.0, 20.0, 20.0, 0.0},\n",
    "        {0.0,  0.0,  0.0,  0.0,  0.0, 0.0}\n",
    "    };\n",
    "\n",
    "    public static double computeTemp(int row, int col) {\n",
    "        if (row == 0 || row == temps.length - 1 || col == 0 || col == temps[0].length - 1) {\n",
    "            return temps[row][col];\n",
    "        }\n",
    "        return (temps[row - 1][col] + temps[row + 1][col] +\n",
    "                temps[row][col - 1] + temps[row][col + 1]) / 4.0;\n",
    "    }\n",
    "\n",
    "    public static boolean updateAllTemps(double tolerance) {\n",
    "        int rows = temps.length;\n",
    "        int cols = temps[0].length;\n",
    "        double[][] newTemps = new double[rows][cols];\n",
    "        boolean withinTolerance = true;\n",
    "\n",
    "        for (int r = 0; r < rows; r++) {\n",
    "            for (int c = 0; c < cols; c++) {\n",
    "                newTemps[r][c] = computeTemp(r, c);\n",
    "                if (Math.abs(newTemps[r][c] - temps[r][c]) > tolerance) {\n",
    "                    withinTolerance = false;\n",
    "                }\n",
    "            }\n",
    "        }\n",
    "\n",
    "        // Update temps with newTemps\n",
    "        for (int r = 0; r < rows; r++) {\n",
    "            for (int c = 0; c < cols; c++) {\n",
    "                temps[r][c] = newTemps[r][c];\n",
    "            }\n",
    "        }\n",
    "\n",
    "        return withinTolerance;\n",
    "    }\n",
    "\n",
    "    public static void printTemps() {\n",
    "        for (double[] row : temps) {\n",
    "            for (double val : row) {\n",
    "                System.out.printf(\"%6.1f \", val);\n",
    "            }\n",
    "            System.out.println();\n",
    "        }\n",
    "    }\n",
    "\n",
    "    public static void main(String[] args) {\n",
    "        System.out.println(\"Before update:\");\n",
    "        printTemps();\n",
    "        boolean result = updateAllTemps(0.01);\n",
    "        System.out.println(\"\\nAfter update:\");\n",
    "        printTemps();\n",
    "        System.out.println(\"\\nAll within tolerance: \" + result);\n",
    "    }\n",
    "}\n",
    "TempGrid.main(null);\n"
   ]
  },
  {
   "cell_type": "markdown",
   "id": "4ca0da3f",
   "metadata": {},
   "source": [
    "## QUESTION 4\n",
    "# Part A\n",
    "This method checks if a score exists in the database.  \n",
    "- If it does, it increments its frequency and returns false.  \n",
    "- If it does not, it creates a new `ScoreInfo` and inserts it in sorted order.\n"
   ]
  },
  {
   "cell_type": "code",
   "execution_count": 17,
   "id": "26c45407",
   "metadata": {
    "vscode": {
     "languageId": "java"
    }
   },
   "outputs": [
    {
     "name": "stdout",
     "output_type": "stream",
     "text": [
      "Score: 70, Frequency: 1\n",
      "Score: 85, Frequency: 3\n",
      "Score: 92, Frequency: 2\n",
      "Score: 100, Frequency: 1\n"
     ]
    }
   ],
   "source": [
    "import java.util.*;\n",
    "\n",
    "class ScoreInfo {\n",
    "    private int score;\n",
    "    private int frequency;\n",
    "\n",
    "    public ScoreInfo(int score) {\n",
    "        this.score = score;\n",
    "        this.frequency = 1;\n",
    "    }\n",
    "\n",
    "    public int getScore() {\n",
    "        return score;\n",
    "    }\n",
    "\n",
    "    public int getFrequency() {\n",
    "        return frequency;\n",
    "    }\n",
    "\n",
    "    public void incrementFrequency() {\n",
    "        frequency++;\n",
    "    }\n",
    "\n",
    "    @Override\n",
    "    public String toString() {\n",
    "        return \"Score: \" + score + \", Frequency: \" + frequency;\n",
    "    }\n",
    "}\n",
    "\n",
    "class Stats {\n",
    "    private List<ScoreInfo> scoreList = new ArrayList<>();\n",
    "\n",
    "    /**\n",
    "     * Records a score into the database.\n",
    "     * If score exists, its frequency is incremented and returns false.\n",
    "     * If not, a new ScoreInfo is added in sorted order and returns true.\n",
    "     */\n",
    "    public boolean record(int score) {\n",
    "        for (ScoreInfo info : scoreList) {\n",
    "            if (info.getScore() == score) {\n",
    "                info.incrementFrequency();\n",
    "                return false;\n",
    "            }\n",
    "        }\n",
    "\n",
    "        // Insert in ascending score order\n",
    "        int index = 0;\n",
    "        while (index < scoreList.size() && scoreList.get(index).getScore() < score) {\n",
    "            index++;\n",
    "        }\n",
    "\n",
    "        scoreList.add(index, new ScoreInfo(score));\n",
    "        return true;\n",
    "    }\n",
    "\n",
    "    public void printScores() {\n",
    "        for (ScoreInfo info : scoreList) {\n",
    "            System.out.println(info);\n",
    "        }\n",
    "    }\n",
    "\n",
    "    // ✅ Test the record method here\n",
    "    public static void main(String[] args) {\n",
    "        Stats stats = new Stats();\n",
    "\n",
    "        stats.record(85);\n",
    "        stats.record(92);\n",
    "        stats.record(85);\n",
    "        stats.record(70);\n",
    "        stats.record(100);\n",
    "        stats.record(92);\n",
    "        stats.record(85);\n",
    "\n",
    "        stats.printScores(); // Should print: 70, 85 (3x), 92 (2x), 100 (1x)\n",
    "    }\n",
    "}\n",
    "Stats.main(null)\n"
   ]
  },
  {
   "cell_type": "markdown",
   "id": "7ef1c5b4",
   "metadata": {},
   "source": [
    "# Part B\n",
    "This method records all scores in the given array using the `record()` method.  \n",
    "Each score is passed into the database in increasing order.\n"
   ]
  },
  {
   "cell_type": "code",
   "execution_count": 14,
   "id": "d3d63031",
   "metadata": {
    "vscode": {
     "languageId": "java"
    }
   },
   "outputs": [
    {
     "name": "stdout",
     "output_type": "stream",
     "text": [
      "Score: 70, Frequency: 1\n",
      "Score: 85, Frequency: 3\n",
      "Score: 92, Frequency: 2\n",
      "Score: 100, Frequency: 1\n"
     ]
    }
   ],
   "source": [
    "class Stats {\n",
    "    private List<ScoreInfo> scoreList = new ArrayList<>();\n",
    "\n",
    "    public boolean record(int score) {\n",
    "        for (ScoreInfo info : scoreList) {\n",
    "            if (info.getScore() == score) {\n",
    "                info.incrementFrequency();\n",
    "                return false;\n",
    "            }\n",
    "        }\n",
    "\n",
    "        int i = 0;\n",
    "        while (i < scoreList.size() && scoreList.get(i).getScore() < score) {\n",
    "            i++;\n",
    "        }\n",
    "\n",
    "        scoreList.add(i, new ScoreInfo(score));\n",
    "        return true;\n",
    "    }\n",
    "\n",
    "    public void recordScores(int[] stuScores) {\n",
    "        for (int score : stuScores) {\n",
    "            record(score);\n",
    "        }\n",
    "    }\n",
    "\n",
    "    public void printScores() {\n",
    "        for (ScoreInfo info : scoreList) {\n",
    "            System.out.println(info);\n",
    "        }\n",
    "    }\n",
    "\n",
    "    public static void main(String[] args) {\n",
    "        Stats stats = new Stats();\n",
    "        int[] scores = {85, 92, 85, 70, 100, 92, 85};\n",
    "        stats.recordScores(scores);\n",
    "        stats.printScores();  // Should show scores in order: 70, 85, 92, 100\n",
    "    }\n",
    "}\n",
    "Stats.main(null);\n"
   ]
  }
 ],
 "metadata": {
  "kernelspec": {
   "display_name": "Java",
   "language": "java",
   "name": "java"
  },
  "language_info": {
   "codemirror_mode": "java",
   "file_extension": ".jshell",
   "mimetype": "text/x-java-source",
   "name": "Java",
   "pygments_lexer": "java",
   "version": "17.0.12+7"
  }
 },
 "nbformat": 4,
 "nbformat_minor": 5
}
