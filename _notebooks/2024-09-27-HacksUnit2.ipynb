{
 "cells": [
  {
   "cell_type": "markdown",
   "metadata": {},
   "source": [
    "## 8.1 Popcorn Hack #1\n",
    "\n",
    "What's wrong with this code: Class was int should be String"
   ]
  },
  {
   "cell_type": "code",
   "execution_count": 11,
   "metadata": {
    "vscode": {
     "languageId": "java"
    }
   },
   "outputs": [],
   "source": [
    "String[][] exampleArray = {\n",
    "    {\"Hello\", \"World\"},\n",
    "    {\"Java\", \"Array\"}\n",
    "};\n"
   ]
  },
  {
   "cell_type": "markdown",
   "metadata": {
    "vscode": {
     "languageId": "java"
    }
   },
   "source": [
    "## 8.1 Popcorn Hack #2\n",
    "- To calculate how many total elements the 2D array matrix can hold, you simply multiply the number of rows by the number of columns.\n",
    "Total elements=Number of rows×Number of columns=2×3=6\n"
   ]
  },
  {
   "cell_type": "markdown",
   "metadata": {
    "vscode": {
     "languageId": "java"
    }
   },
   "source": [
    "## 8.1 Popcorn hack #3\n",
    "D. A and C\n"
   ]
  },
  {
   "cell_type": "markdown",
   "metadata": {},
   "source": [
    "## 8.1 Try On Your Own's"
   ]
  },
  {
   "cell_type": "code",
   "execution_count": 2,
   "metadata": {
    "vscode": {
     "languageId": "java"
    }
   },
   "outputs": [
    {
     "name": "stdout",
     "output_type": "stream",
     "text": [
      "[[1, 2, 3], [4, 5, 6], [7, 8, 9]]\n"
     ]
    }
   ],
   "source": [
    "public class ArrayPractice {\n",
    "    public static void main(String[] args) {\n",
    "        int[][] array = {\n",
    "            {1, 2, 3},\n",
    "            {4, 5, 6},\n",
    "            {7, 8, 9}\n",
    "        };\n",
    "        // Print the array\n",
    "        System.out.println(java.util.Arrays.deepToString(array));\n",
    "    }\n",
    "}\n",
    "\n",
    "ArrayPractice.main(null)"
   ]
  },
  {
   "cell_type": "code",
   "execution_count": 12,
   "metadata": {
    "vscode": {
     "languageId": "java"
    }
   },
   "outputs": [
    {
     "name": "stdout",
     "output_type": "stream",
     "text": [
      "[[Hello, World], [Java, Array]]\n",
      "[[Hello, World], [programming, Array]]\n"
     ]
    }
   ],
   "source": [
    "String[][] hack = {\n",
    "    {\"Hello\", \"World\"},\n",
    "    {\"Java\", \"Array\"}\n",
    "};\n",
    "System.out.println(Arrays.deepToString(hack));\n",
    "\n",
    "hack[1][0] = \"programming\";\n",
    "\n",
    "// Print the 2D array\n",
    "System.out.println(Arrays.deepToString(hack));"
   ]
  },
  {
   "cell_type": "markdown",
   "metadata": {},
   "source": [
    "## 8.1 Popcorn Hack #4\n",
    "- B) || only"
   ]
  },
  {
   "cell_type": "markdown",
   "metadata": {},
   "source": [
    "## 8.2"
   ]
  },
  {
   "cell_type": "code",
   "execution_count": 6,
   "metadata": {
    "vscode": {
     "languageId": "java"
    }
   },
   "outputs": [
    {
     "name": "stdout",
     "output_type": "stream",
     "text": [
      " number: 55\n",
      " row: 1, column: 1\n"
     ]
    }
   ],
   "source": [
    "public class Main {\n",
    "    public static void main(String[] args) {\n",
    "        int find[][] = {\n",
    "            {10, 20, 30},\n",
    "            {40, 55, 60},\n",
    "            {70, 80, 90},\n",
    "        };\n",
    "\n",
    "        // Loop through the 2D array\n",
    "        for (int row = 0; row < find.length; row++) {\n",
    "            for (int col = 0; col < find[row].length; col++) {\n",
    "                if (find[row][col] == 55) {\n",
    "                    System.out.println(\" number: \" + find[row][col]);\n",
    "                    System.out.println(\" row: \" + row + \", column: \" + col);\n",
    "                    return; // Exit after finding the number\n",
    "                }\n",
    "            }\n",
    "        }\n",
    "    }\n",
    "}\n",
    "\n",
    "Main.main(null);"
   ]
  },
  {
   "cell_type": "markdown",
   "metadata": {
    "vscode": {
     "languageId": "java"
    }
   },
   "source": [
    "## BINARY SEARCH"
   ]
  },
  {
   "cell_type": "code",
   "execution_count": 8,
   "metadata": {
    "vscode": {
     "languageId": "java"
    }
   },
   "outputs": [
    {
     "name": "stdout",
     "output_type": "stream",
     "text": [
      "Binary Search - Found 9 at row: 1, col: 3\n"
     ]
    }
   ],
   "source": [
    "import java.util.Arrays;\n",
    "\n",
    "public class Main {\n",
    "    public static void main(String[] args) {\n",
    "        int[][] array = {\n",
    "            {1, 2, 3, 4, 5},\n",
    "            {6, 7, 8, 9, 10},\n",
    "            {11, 12, 13, 14, 15}\n",
    "        };\n",
    "\n",
    "        int target = 9;\n",
    "        boolean found = false;\n",
    "\n",
    "        // Binary Search for each row\n",
    "        for (int row = 0; row < array.length; row++) {\n",
    "            int col = Arrays.binarySearch(array[row], target);\n",
    "            if (col >= 0) {\n",
    "                System.out.println(\"Binary Search - Found \" + target + \" at row: \" + row + \", col: \" + col);\n",
    "                found = true;\n",
    "                break;\n",
    "            }\n",
    "        }\n",
    "\n",
    "        if (!found) {\n",
    "            System.out.println(\"Binary Search - Target not found.\");\n",
    "        }\n",
    "    }\n",
    "}\n",
    "\n",
    "Main.main(null);\n"
   ]
  },
  {
   "cell_type": "markdown",
   "metadata": {},
   "source": [
    "## LINEAR SEARCH\n"
   ]
  },
  {
   "cell_type": "code",
   "execution_count": 7,
   "metadata": {
    "vscode": {
     "languageId": "java"
    }
   },
   "outputs": [
    {
     "name": "stdout",
     "output_type": "stream",
     "text": [
      "Linear Search - Found 9 at row: 1, col: 3\n"
     ]
    }
   ],
   "source": [
    "public class Main {\n",
    "    public static void main(String[] args) {\n",
    "        int[][] array = {\n",
    "            {1, 2, 3, 4, 5},\n",
    "            {6, 7, 8, 9, 10},\n",
    "            {11, 12, 13, 14, 15}\n",
    "        };\n",
    "\n",
    "        int target = 9;\n",
    "        boolean found = false;\n",
    "\n",
    "        // Linear Search\n",
    "        for (int row = 0; row < array.length; row++) {\n",
    "            for (int col = 0; col < array[row].length; col++) {\n",
    "                if (array[row][col] == target) {\n",
    "                    System.out.println(\"Linear Search - Found \" + target + \" at row: \" + row + \", col: \" + col);\n",
    "                    found = true;\n",
    "                    break;\n",
    "                }\n",
    "            }\n",
    "            if (found) break;\n",
    "        }\n",
    "\n",
    "        if (!found) {\n",
    "            System.out.println(\"Linear Search - Target not found.\");\n",
    "        }\n",
    "    }\n",
    "}\n",
    "\n",
    "Main.main(null)"
   ]
  },
  {
   "cell_type": "markdown",
   "metadata": {},
   "source": [
    "## Global Sorting Hack"
   ]
  },
  {
   "cell_type": "code",
   "execution_count": 13,
   "metadata": {
    "vscode": {
     "languageId": "java"
    }
   },
   "outputs": [
    {
     "name": "stdout",
     "output_type": "stream",
     "text": [
      "Sorted Array: [11, 14, 21, 29, 34, 43, 56, 87, 92]\n",
      "Element found at index: 5\n"
     ]
    }
   ],
   "source": [
    "import java.util.Arrays;\n",
    "\n",
    "public class PopcornHack {\n",
    "\n",
    "    public static void main(String[] args) {\n",
    "        // Step 1: Create a 2D array\n",
    "        int[][] array = {\n",
    "            {34, 21, 56},\n",
    "            {11, 92, 14},\n",
    "            {43, 87, 29}\n",
    "        };\n",
    "\n",
    "        // Step 2: Flatten and sort the array globally\n",
    "        int[] sortedArray = globalSort(array);\n",
    "        System.out.println(\"Sorted Array: \" + Arrays.toString(sortedArray));\n",
    "\n",
    "        // Step 3: Define your target number\n",
    "        int target = 43;\n",
    "\n",
    "        // Step 4: Call the search method (choose either linear or binary search)\n",
    "        int result = binarySearch(sortedArray, target);\n",
    "\n",
    "        // Step 5: Output the result\n",
    "        if (result != -1) {\n",
    "            System.out.println(\"Element found at index: \" + result);\n",
    "        } else {\n",
    "            System.out.println(\"Element not found.\");\n",
    "        }\n",
    "    }\n",
    "\n",
    "    // Method to perform global sorting on a 2D array\n",
    "    public static int[] globalSort(int[][] array) {\n",
    "        int totalElements = array.length * array[0].length;\n",
    "        int[] flatArray = new int[totalElements];\n",
    "        \n",
    "        // Flatten the 2D array\n",
    "        int index = 0;\n",
    "        for (int i = 0; i < array.length; i++) {\n",
    "            for (int j = 0; j < array[i].length; j++) {\n",
    "                flatArray[index++] = array[i][j];\n",
    "            }\n",
    "        }\n",
    "        \n",
    "        // Sort the flattened array\n",
    "        Arrays.sort(flatArray);\n",
    "        \n",
    "        return flatArray;\n",
    "    }\n",
    "\n",
    "    // Option 1: Linear Search\n",
    "    public static int linearSearch(int[] array, int target) {\n",
    "        for (int i = 0; i < array.length; i++) {\n",
    "            if (array[i] == target) {\n",
    "                return i;  // Return index if found\n",
    "            }\n",
    "        }\n",
    "        return -1;  // Return -1 if not found\n",
    "    }\n",
    "\n",
    "    // Option 2: Binary Search\n",
    "    public static int binarySearch(int[] array, int target) {\n",
    "        int left = 0, right = array.length - 1;\n",
    "        while (left <= right) {\n",
    "            int mid = left + (right - left) / 2;\n",
    "\n",
    "            // Check if target is present at mid\n",
    "            if (array[mid] == target) {\n",
    "                return mid;\n",
    "            }\n",
    "\n",
    "            // If target is greater, ignore the left half\n",
    "            if (array[mid] < target) {\n",
    "                left = mid + 1;\n",
    "            }\n",
    "            // If target is smaller, ignore the right half\n",
    "            else {\n",
    "                right = mid - 1;\n",
    "            }\n",
    "        }\n",
    "\n",
    "        return -1;  // Return -1 if target is not found\n",
    "    }\n",
    "}\n",
    "PopcornHack.main(null)"
   ]
  },
  {
   "cell_type": "markdown",
   "metadata": {},
   "source": [
    "## 8.1 HW Hack"
   ]
  },
  {
   "cell_type": "markdown",
   "metadata": {},
   "source": [
    "|     |  1  |   2   |    3    |\n",
    "| --- | --- | ----- | ------- |\n",
    "|  1  | My  |  AP   |   CS    |\n",
    "|  2  |  A  | Class | Rocks!  |\n"
   ]
  },
  {
   "cell_type": "markdown",
   "metadata": {},
   "source": [
    "## 8.2 HW Hack"
   ]
  },
  {
   "cell_type": "code",
   "execution_count": 14,
   "metadata": {
    "vscode": {
     "languageId": "java"
    }
   },
   "outputs": [
    {
     "name": "stdout",
     "output_type": "stream",
     "text": [
      "John's grade: 93\n",
      "Alice's grade: 85\n",
      "Charlie's grade: Student not found\n"
     ]
    }
   ],
   "source": [
    "public class GradeSearch {\n",
    "    public static String searchGrade(String[][] grades, String name) {\n",
    "        // Loop through each row in the 2D array\n",
    "        for (int i = 0; i < grades.length; i++) {\n",
    "            // Check if the first element (name) matches the search name\n",
    "            if (grades[i][0].equals(name)) {\n",
    "                return grades[i][1];  // Return the grade if the name matches\n",
    "            }\n",
    "        }\n",
    "        // If the student is not found, return \"Student not found\"\n",
    "        return \"Student not found\";\n",
    "    }\n",
    "\n",
    "    public static void main(String[] args) {\n",
    "        // Sample 2D array with names and grades\n",
    "        String[][] grades = {\n",
    "            {\"John\", \"93\"},\n",
    "            {\"Alice\", \"85\"},\n",
    "            {\"Bob\", \"78\"},\n",
    "            {\"Eve\", \"92\"}\n",
    "        };\n",
    "\n",
    "        // Test the search function with \"John\"\n",
    "        String nameToSearch = \"John\";\n",
    "        String grade = searchGrade(grades, nameToSearch);\n",
    "        System.out.println(nameToSearch + \"'s grade: \" + grade);\n",
    "\n",
    "        // Test the search function with \"Alice\"\n",
    "        nameToSearch = \"Alice\";\n",
    "        grade = searchGrade(grades, nameToSearch);\n",
    "        System.out.println(nameToSearch + \"'s grade: \" + grade);\n",
    "\n",
    "        // Test the search function with a name not in the list (\"Charlie\")\n",
    "        nameToSearch = \"Charlie\";\n",
    "        grade = searchGrade(grades, nameToSearch);\n",
    "        System.out.println(nameToSearch + \"'s grade: \" + grade);\n",
    "    }\n",
    "}\n",
    "\n",
    "// Execute the main method to see the output\n",
    "GradeSearch.main(null);\n"
   ]
  }
 ],
 "metadata": {
  "kernelspec": {
   "display_name": "Java",
   "language": "java",
   "name": "java"
  },
  "language_info": {
   "codemirror_mode": "java",
   "file_extension": ".jshell",
   "mimetype": "text/x-java-source",
   "name": "Java",
   "pygments_lexer": "java",
   "version": "17.0.12+7"
  }
 },
 "nbformat": 4,
 "nbformat_minor": 2
}
