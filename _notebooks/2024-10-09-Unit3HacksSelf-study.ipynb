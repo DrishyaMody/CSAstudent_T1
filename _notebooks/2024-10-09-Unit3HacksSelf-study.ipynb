{
 "cells": [
  {
   "cell_type": "markdown",
   "metadata": {},
   "source": [
    "## 3.1 POPCORN HACK"
   ]
  },
  {
   "cell_type": "markdown",
   "metadata": {},
   "source": [
    "1. \n",
    "- string is not in quotations causing an error\n",
    "2. \n",
    "- The precondition for the num parameter in the method getCheck(int num) is that the number of digits in num must be between one and six, inclusive, and num must be greater than or equal to 0 (num >= 0).\n",
    "\n",
    "This means that num should be a non-negative integer with at most six digits."
   ]
  },
  {
   "cell_type": "markdown",
   "metadata": {},
   "source": [
    "## 3.2 POPCORN HACK"
   ]
  },
  {
   "cell_type": "code",
   "execution_count": 2,
   "metadata": {
    "vscode": {
     "languageId": "java"
    }
   },
   "outputs": [
    {
     "name": "stdout",
     "output_type": "stream",
     "text": [
      "Test case: -1 (Negative number): -1\n",
      "Test case: 0 (Zero): 0\n",
      "Test case: 1234567 (More than six digits): -1\n",
      "Test case: 123456 (Valid case): 0\n",
      "Test case: 987654 (Valid case): 0\n"
     ]
    }
   ],
   "source": [
    "public class CheckDigitTest {\n",
    "    public static void main(String[] args) {\n",
    "        // Test cases that do not satisfy the precondition\n",
    "        System.out.println(\"Test case: -1 (Negative number): \" + getCheck(-1));       // Negative number (invalid)\n",
    "        System.out.println(\"Test case: 0 (Zero): \" + getCheck(0));                  // Zero (invalid, no digits)\n",
    "        System.out.println(\"Test case: 1234567 (More than six digits): \" + getCheck(1234567));  // More than six digits (invalid)\n",
    "        System.out.println(\"Test case: 123456 (Valid case): \" + getCheck(123456));   // Exactly six digits (valid)\n",
    "        System.out.println(\"Test case: 987654 (Valid case): \" + getCheck(987654));   // Exactly six digits (valid)\n",
    "    }\n",
    "\n",
    "    // Placeholder implementation for getCheck method\n",
    "    public static int getCheck(int num) {\n",
    "        // Placeholder implementation for testing\n",
    "        if (num < 0 || String.valueOf(num).length() > 6) {\n",
    "            return -1; // return -1 for invalid inputs\n",
    "        }\n",
    "        // Additional logic for valid input would go here\n",
    "        return 0; // Placeholder return value for valid inputs\n",
    "    }\n",
    "}\n",
    "CheckDigitTest.main(null)"
   ]
  },
  {
   "cell_type": "markdown",
   "metadata": {},
   "source": [
    "## 3.3 Popcorn Hack"
   ]
  },
  {
   "cell_type": "markdown",
   "metadata": {},
   "source": [
    "- If I was younger than 16 it would print : You are not old enough for a license yet. "
   ]
  },
  {
   "cell_type": "code",
   "execution_count": 3,
   "metadata": {
    "vscode": {
     "languageId": "java"
    }
   },
   "outputs": [
    {
     "name": "stdout",
     "output_type": "stream",
     "text": [
      "Enter a number: The number is positive.\n"
     ]
    }
   ],
   "source": [
    "import java.util.Scanner;\n",
    "\n",
    "public class BasicIfElseExample {\n",
    "    public static void main(String[] args) {\n",
    "        Scanner scanner = new Scanner(System.in);\n",
    "\n",
    "        System.out.print(\"Enter a number: \");\n",
    "        int number = scanner.nextInt();\n",
    "\n",
    "        if (number > 0) {\n",
    "            System.out.println(\"The number is positive.\");\n",
    "        } else if (number < 0) {\n",
    "            System.out.println(\"The number is negative.\");\n",
    "        } else {\n",
    "            System.out.println(\"The number is zero.\");\n",
    "        }\n",
    "\n",
    "        scanner.close();\n",
    "    }\n",
    "}\n",
    "BasicIfElseExample.main(null)"
   ]
  },
  {
   "cell_type": "markdown",
   "metadata": {},
   "source": [
    "## 3.4 Popcorn Hack"
   ]
  },
  {
   "cell_type": "markdown",
   "metadata": {},
   "source": [
    "- If I was 19 it would print two outputs. You can register to vote. And, You are old enough for a license to drive. \n",
    "\n",
    "- If I was 13 it wouldnt print out anything because there is no conditional that aligns with it"
   ]
  },
  {
   "cell_type": "code",
   "execution_count": 4,
   "metadata": {
    "vscode": {
     "languageId": "java"
    }
   },
   "outputs": [
    {
     "name": "stdout",
     "output_type": "stream",
     "text": [
      "Grade: B\n"
     ]
    }
   ],
   "source": [
    "public class GradeChecker {\n",
    "    public static void main(String[] args) {\n",
    "        int score = 85; // Example score\n",
    "\n",
    "        if (score >= 90) {\n",
    "            System.out.println(\"Grade: A\");\n",
    "        } else if (score >= 80) {\n",
    "            System.out.println(\"Grade: B\");\n",
    "        } else if (score >= 70) {\n",
    "            System.out.println(\"Grade: C\");\n",
    "        } else {\n",
    "            System.out.println(\"Grade: F\");\n",
    "        }\n",
    "    }\n",
    "}\n",
    "GradeChecker.main(null)"
   ]
  },
  {
   "cell_type": "markdown",
   "metadata": {},
   "source": [
    "## 3.5 Popcorn Hack"
   ]
  },
  {
   "cell_type": "markdown",
   "metadata": {},
   "source": [
    "Assess Membership Eligibility:\n",
    "\n",
    "The program evaluates whether the user qualifies for various membership options:\n",
    "Basic Membership: Requires the user to be at least 18 years old with an income of at least $20,000.\n",
    "Premium Membership: Requires the user to be at least 25 years old with an income of at least $50,000.\n",
    "Provide Discounts:\n",
    "\n",
    "The program identifies if the user is eligible for discounts:\n",
    "Student Discount: Offered to all students, regardless of age or income.\n",
    "Senior Discount: Offered to users aged 65 or older.\n",
    "User Interaction:\n",
    "\n",
    "The program interacts with the user by prompting them to input their age, income, and student status, making it user-friendly and informative.\n",
    "Feedback Generation:\n",
    "\n",
    "Based on the input provided, the program generates feedback by indicating what memberships or discounts the user qualifies for. If the user does not meet any eligibility criteria, it informs them that they do not qualify for any memberships or discounts.\n",
    "Encourage Participation:\n",
    "\n",
    "By informing users of potential memberships and discounts, the program encourages participation in programs or services that might benefit them based on their current life situation (e.g., being a student or reaching a certain age).\n",
    "Summary\n",
    "Overall, the program serves as an eligibility checker for memberships and discounts, making it useful for organizations or services that offer such benefits, enabling them to streamline the process of determining who can receive what based on predefined criteria."
   ]
  },
  {
   "cell_type": "markdown",
   "metadata": {},
   "source": [
    "- what would be output if input is\n",
    "    age 20\n",
    "    anual income 1500\n",
    "    student status: yes\n",
    "\n",
    "Basic Membership: Not eligible (20 is less than 18, and income 1500 is less than 20000).\n",
    "Premium Membership: Not eligible (20 is less than 25, and income 1500 is less than 50000).\n",
    "Student Discount: Eligible (the user is a student).\n",
    "Senior Discount: Not eligible (20 is less than 65).\n"
   ]
  },
  {
   "cell_type": "markdown",
   "metadata": {},
   "source": [
    "## 3.6 Popcorn Hack"
   ]
  },
  {
   "cell_type": "code",
   "execution_count": 6,
   "metadata": {
    "vscode": {
     "languageId": "java"
    }
   },
   "outputs": [
    {
     "name": "stdout",
     "output_type": "stream",
     "text": [
      "1. x is not equal to 0\n",
      "3. x is in the range [-5, 10]\n",
      "4. x is between -5 and 10 inclusive\n"
     ]
    }
   ],
   "source": [
    "public class ChallengeQuestions {\n",
    "\n",
    "    public static void main(String[] args) {\n",
    "        int x = 7; // Change this value to test different scenarios\n",
    "\n",
    "        // 1. Equivalent expression for !(x == 0)\n",
    "        if (!(x == 0)) {\n",
    "            System.out.println(\"1. x is not equal to 0\"); // Equivalent to x != 0\n",
    "        }\n",
    "\n",
    "        // 2. Applying De Morgan's Law on a more complex expression\n",
    "        if (!(x > 5 && x < 10)) {\n",
    "            System.out.println(\"2. x is not in the range (5, 10)\"); // Equivalent to x <= 5 || x >= 10\n",
    "        }\n",
    "\n",
    "        // 3. Negating the expression (x < -5 || x > 10)\n",
    "        if (!(x < -5 || x > 10)) {\n",
    "            System.out.println(\"3. x is in the range [-5, 10]\"); // Equivalent to x >= -5 && x <= 10\n",
    "        }\n",
    "\n",
    "        // 4. Rewrite using De Morgan's Law\n",
    "        if (x >= -5 && x <= 10) {\n",
    "            System.out.println(\"4. x is between -5 and 10 inclusive\"); // Same as !(x < -5) && !(x > 10)\n",
    "        }\n",
    "    }\n",
    "}\n",
    "ChallengeQuestions.main(null)"
   ]
  },
  {
   "cell_type": "markdown",
   "metadata": {},
   "source": [
    "## 3.7 Popcorn Hack"
   ]
  },
  {
   "cell_type": "markdown",
   "metadata": {},
   "source": [
    "- sharonsHouse and myHouse would indeed be considered the same by your equals method because they have identical values for both the color and size attributes."
   ]
  },
  {
   "cell_type": "markdown",
   "metadata": {},
   "source": [
    "## 3.8 HW HACKS\n"
   ]
  },
  {
   "cell_type": "code",
   "execution_count": 7,
   "metadata": {
    "vscode": {
     "languageId": "java"
    }
   },
   "outputs": [
    {
     "name": "stdout",
     "output_type": "stream",
     "text": [
      "Enter your age: Enter your annual income: Are you a student? (yes/no): Enter your employment type (full-time, part-time, unemployed): You qualify for Basic Membership.\n",
      "You are eligible for a Student Discount.\n",
      "\n",
      "Recommended Membership: Student Discount.\n"
     ]
    }
   ],
   "source": [
    "import java.util.Scanner;\n",
    "\n",
    "public class PrimeClubMembership {\n",
    "\n",
    "    public static void main(String[] args) {\n",
    "        Scanner scanner = new Scanner(System.in);\n",
    "\n",
    "        // Get user input\n",
    "        System.out.print(\"Enter your age: \");\n",
    "        int age = scanner.nextInt();\n",
    "\n",
    "        System.out.print(\"Enter your annual income: \");\n",
    "        double income = scanner.nextDouble();\n",
    "        scanner.nextLine();  // Consume newline left-over\n",
    "\n",
    "        System.out.print(\"Are you a student? (yes/no): \");\n",
    "        String studentStatus = scanner.nextLine().trim().toLowerCase();\n",
    "\n",
    "        System.out.print(\"Enter your employment type (full-time, part-time, unemployed): \");\n",
    "        String employmentType = scanner.nextLine().trim().toLowerCase();\n",
    "\n",
    "        // Initialize an empty array to hold results\n",
    "        StringBuilder results = new StringBuilder();\n",
    "\n",
    "        // Check eligibility for different memberships\n",
    "        // Basic Membership\n",
    "        if (age >= 18 && income >= 20000) {\n",
    "            results.append(\"You qualify for Basic Membership.\\n\");\n",
    "        }\n",
    "\n",
    "        // Premium Membership\n",
    "        if (age >= 25 && income >= 50000) {\n",
    "            results.append(\"You qualify for Premium Membership.\\n\");\n",
    "        }\n",
    "\n",
    "        // Student Discount\n",
    "        if (studentStatus.equals(\"yes\")) {\n",
    "            results.append(\"You are eligible for a Student Discount.\\n\");\n",
    "        }\n",
    "\n",
    "        // Senior Discount\n",
    "        if (age >= 65) {\n",
    "            results.append(\"You qualify for a Senior Discount.\\n\");\n",
    "        }\n",
    "\n",
    "        // Output results\n",
    "        if (results.length() > 0) {\n",
    "            System.out.println(results);\n",
    "            // Final recommendation based on priority\n",
    "            if (age >= 25 && income >= 50000) {\n",
    "                System.out.println(\"Recommended Membership: Premium Membership.\");\n",
    "            } else if (age >= 65) {\n",
    "                System.out.println(\"Recommended Membership: Senior Discount.\");\n",
    "            } else if (studentStatus.equals(\"yes\")) {\n",
    "                System.out.println(\"Recommended Membership: Student Discount.\");\n",
    "            } else if (age >= 18 && income >= 20000) {\n",
    "                System.out.println(\"Recommended Membership: Basic Membership.\");\n",
    "            }\n",
    "        } else {\n",
    "            System.out.println(\"You do not qualify for any memberships or discounts.\");\n",
    "        }\n",
    "\n",
    "        // Close the scanner\n",
    "        scanner.close();\n",
    "    }\n",
    "}\n",
    "PrimeClubMembership.main(null)"
   ]
  }
 ],
 "metadata": {
  "kernelspec": {
   "display_name": "Java",
   "language": "java",
   "name": "java"
  },
  "language_info": {
   "codemirror_mode": "java",
   "file_extension": ".jshell",
   "mimetype": "text/x-java-source",
   "name": "Java",
   "pygments_lexer": "java",
   "version": "17.0.12+7"
  }
 },
 "nbformat": 4,
 "nbformat_minor": 2
}
