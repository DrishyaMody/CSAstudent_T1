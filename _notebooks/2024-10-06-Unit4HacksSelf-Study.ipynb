{
 "cells": [
  {
   "cell_type": "markdown",
   "metadata": {},
   "source": [
    "---\n",
    "layout: post\n",
    "title: Unit 4 Self Study\n",
    "courses: {'csa': {'week': 7}}\n",
    "comments: True\n",
    "type: ccc\n",
    "---"
   ]
  },
  {
   "cell_type": "markdown",
   "metadata": {},
   "source": [
    "## 4.1 PopCorn Hack"
   ]
  },
  {
   "cell_type": "code",
   "execution_count": 1,
   "metadata": {
    "vscode": {
     "languageId": "java"
    }
   },
   "outputs": [
    {
     "name": "stdout",
     "output_type": "stream",
     "text": [
      "0\n",
      "1\n",
      "2\n",
      "3\n",
      "4\n"
     ]
    }
   ],
   "source": [
    "int i = 0;\n",
    "while (i < 5) {\n",
    "    System.out.println(i);\n",
    "    i++;  // Increment i to avoid infinite loop\n",
    "}\n"
   ]
  },
  {
   "cell_type": "markdown",
   "metadata": {},
   "source": [
    "## 4.2 Popcorn Hacks"
   ]
  },
  {
   "cell_type": "code",
   "execution_count": 2,
   "metadata": {
    "vscode": {
     "languageId": "java"
    }
   },
   "outputs": [
    {
     "name": "stdout",
     "output_type": "stream",
     "text": [
      "Even Numbers:\n",
      "0\n",
      "4\n",
      "92\n",
      "10\n",
      "\n",
      "Odd Numbers:\n",
      "51\n",
      "83\n",
      "123\n",
      "145\n"
     ]
    }
   ],
   "source": [
    "public class Main {\n",
    "    public static void main(String[] args) {\n",
    "        // Initialize the list of integers\n",
    "        int[] int_list = {0, 4, 51, 83, 92, 10, 123, 145};\n",
    "\n",
    "        System.out.println(\"Even Numbers:\");\n",
    "        for (int i = 0; i < int_list.length; i++) {\n",
    "            if (int_list[i] % 2 == 0) {\n",
    "                System.out.println(int_list[i]);\n",
    "            }\n",
    "        }\n",
    "\n",
    "        System.out.println(\"\\nOdd Numbers:\");\n",
    "        for (int i = 0; i < int_list.length; i++) {\n",
    "            if (int_list[i] % 2 != 0) {\n",
    "                System.out.println(int_list[i]);\n",
    "            }\n",
    "        }\n",
    "    }\n",
    "}\n",
    "Main.main(null)"
   ]
  },
  {
   "cell_type": "markdown",
   "metadata": {},
   "source": [
    "## 4.3 Popcorn Hack\n"
   ]
  },
  {
   "cell_type": "code",
   "execution_count": 3,
   "metadata": {
    "vscode": {
     "languageId": "java"
    }
   },
   "outputs": [
    {
     "name": "stdout",
     "output_type": "stream",
     "text": [
      "P\n",
      "o\n",
      "p\n",
      "c\n",
      "o\n",
      "r\n",
      "n\n",
      " \n",
      "H\n",
      "a\n",
      "c\n",
      "k\n"
     ]
    }
   ],
   "source": [
    "public class Main {\n",
    "    public static void main(String[] args) {\n",
    "        // Initialize the string\n",
    "        String str = \"Popcorn Hack\";\n",
    "\n",
    "        // Initialize an index variable\n",
    "        int i = 0;\n",
    "\n",
    "        // While loop to iterate through each character\n",
    "        while (i < str.length()) {\n",
    "            System.out.println(str.charAt(i));  // Print each character\n",
    "            i++;  // Increment the index\n",
    "        }\n",
    "    }\n",
    "}\n",
    "Main.main(null)\n"
   ]
  },
  {
   "cell_type": "markdown",
   "metadata": {},
   "source": [
    "## 4.3 Homework Hack"
   ]
  },
  {
   "cell_type": "code",
   "execution_count": 8,
   "metadata": {
    "vscode": {
     "languageId": "java"
    }
   },
   "outputs": [
    {
     "name": "stdout",
     "output_type": "stream",
     "text": [
      "Test 1: khoor zruog\n",
      "Test 2: klmnopq\n",
      "Test 3: c fipy wmu\n",
      "Test 4: wrap around\n",
      "Test 5: Ifmmp, Xpsme!\n"
     ]
    }
   ],
   "source": [
    "public class CaesarCipher {\n",
    "    private int key;\n",
    "    private String phrase;\n",
    "\n",
    "    public CaesarCipher(int key, String phrase) {\n",
    "        this.key = key;\n",
    "        this.phrase = phrase;\n",
    "    }\n",
    "\n",
    "    public String encrypt() {\n",
    "        StringBuilder encryptedPhrase = new StringBuilder();\n",
    "        // Normalize the key to be within the range of 0-25\n",
    "        int normalizedKey = key % 26;\n",
    "\n",
    "        for (int i = 0; i < phrase.length(); i++) {\n",
    "            char currentChar = phrase.charAt(i);\n",
    "\n",
    "            // Check if the character is an uppercase letter\n",
    "            if (Character.isUpperCase(currentChar)) {\n",
    "                char encryptedChar = (char) ((currentChar - 'A' + normalizedKey) % 26 + 'A');\n",
    "                encryptedPhrase.append(encryptedChar);\n",
    "            }\n",
    "            // Check if the character is a lowercase letter\n",
    "            else if (Character.isLowerCase(currentChar)) {\n",
    "                char encryptedChar = (char) ((currentChar - 'a' + normalizedKey) % 26 + 'a');\n",
    "                encryptedPhrase.append(encryptedChar);\n",
    "            }\n",
    "            // If it's not a letter, just append it as is\n",
    "            else {\n",
    "                encryptedPhrase.append(currentChar);\n",
    "            }\n",
    "        }\n",
    "\n",
    "        return encryptedPhrase.toString(); // Return the encrypted phrase\n",
    "    }\n",
    "}\n",
    "public class Main {\n",
    "    public static void main(String[] args) {\n",
    "        // Test cases\n",
    "        CaesarCipher test1 = new CaesarCipher(3, \"hello world\");\n",
    "        CaesarCipher test2 = new CaesarCipher(10, \"abcdefg\");\n",
    "        CaesarCipher test3 = new CaesarCipher(20, \"i love csa\");\n",
    "        CaesarCipher test4 = new CaesarCipher(26, \"wrap around\");  // No change since key = 26\n",
    "        CaesarCipher test5 = new CaesarCipher(1, \"Hello, World!\");\n",
    "\n",
    "        // Printing encrypted outputs for each test case\n",
    "        System.out.println(\"Test 1: \" + test1.encrypt()); // Expected: khoor zruog\n",
    "        System.out.println(\"Test 2: \" + test2.encrypt()); // Expected: klmnopq\n",
    "        System.out.println(\"Test 3: \" + test3.encrypt()); // Expected: i vexu ueo\n",
    "        System.out.println(\"Test 4: \" + test4.encrypt()); // Expected: wrap around\n",
    "        System.out.println(\"Test 5: \" + test5.encrypt()); // Expected: Ifmmp, Xpsme!\n",
    "    }\n",
    "}\n",
    "\n",
    "Main.main(null)"
   ]
  },
  {
   "cell_type": "markdown",
   "metadata": {},
   "source": [
    "## 4.4 Popcorn Hack"
   ]
  },
  {
   "cell_type": "code",
   "execution_count": 9,
   "metadata": {
    "vscode": {
     "languageId": "java"
    }
   },
   "outputs": [
    {
     "name": "stdout",
     "output_type": "stream",
     "text": [
      "*****\n",
      "*****\n",
      "*****\n",
      "*****\n",
      "*****\n",
      "*****\n"
     ]
    }
   ],
   "source": [
    "for (int i = 2; i < 8; i++) {\n",
    "    for (int y = 1; y <= 5; y++) {\n",
    "        System.out.print(\"*\");\n",
    "    }\n",
    "    System.out.println();\n",
    "}\n"
   ]
  },
  {
   "cell_type": "markdown",
   "metadata": {},
   "source": [
    "The code prints six lines of five asterisks each, resulting in a total of 30 asterisks displayed in a grid format."
   ]
  },
  {
   "cell_type": "markdown",
   "metadata": {},
   "source": [
    "## HW QUIZ\n"
   ]
  },
  {
   "cell_type": "markdown",
   "metadata": {},
   "source": [
    "1. Answer: D. 3 4 5 6 7 8 9 10 11 12\n",
    "\n",
    "Explanation: The loop starts with i initialized to 3 and continues until i is less than or equal to 12. Therefore, it prints each integer from 3 to 12 inclusive, resulting in the output: 3 4 5 6 7 8 9 10 11 12.\n",
    "\n",
    "2. Answer: B. 7\n",
    "\n",
    "Explanation: The loop starts with i initialized to 3 and continues until i is less than 11. This means it will iterate with values of i as 3, 4, 5, 6, 7, 8, 9, and 10, which totals 7 iterations, printing * each time.\n",
    "\n",
    "3. Answer: B. -5 -4 -3 -2 -1\n",
    "\n",
    "Explanation: The loop starts with x initialized to -5. During each iteration, x is incremented by 1 before being printed. The loop continues as long as x is less than 0. Therefore, it will print the values of x starting from -5 up to -1, resulting in the output: -5 -4 -3 -2 -1.\n",
    "\n",
    "4. Answer: B. 21\n",
    "\n",
    "Explanation:\n",
    "\n",
    "For i = 1: sum += 1 → sum = 1\n",
    "For i = 2: sum += 2 * 2 → sum = 5\n",
    "For i = 3: sum += 3 → sum = 8\n",
    "For i = 4: sum += 4 * 2 → sum = 16\n",
    "For i = 5: sum += 5 → sum = 21\n",
    "The final output is 21."
   ]
  },
  {
   "cell_type": "markdown",
   "metadata": {},
   "source": [
    "## LOOPS HW HACK"
   ]
  },
  {
   "cell_type": "code",
   "execution_count": 12,
   "metadata": {
    "vscode": {
     "languageId": "java"
    }
   },
   "outputs": [
    {
     "name": "stdout",
     "output_type": "stream",
     "text": [
      "Testing while loop method:\n",
      "Numbers divisible by 3 or 5 (while loop):\n",
      "3 5 6 9 10 12 15 18 20 21 24 25 27 30 33 35 36 39 40 42 45 48 50 \n",
      "\n",
      "Testing for loop method:\n",
      "Numbers divisible by 3 or 5 (for loop):\n",
      "3 5 6 9 10 12 15 18 20 21 24 25 27 30 33 35 36 39 40 42 45 48 50 \n"
     ]
    }
   ],
   "source": [
    "public class MainTesting {\n",
    "    public static void main(String[] args) {\n",
    "        // Testing the while loop method\n",
    "        System.out.println(\"Testing while loop method:\");\n",
    "        DivisibleByThreeOrFive.whileLoopTest();\n",
    "\n",
    "        // Testing the for loop method\n",
    "        System.out.println(\"\\nTesting for loop method:\");\n",
    "        DivisibleByThreeOrFive.forLoopTest();\n",
    "    }\n",
    "}\n",
    "\n",
    "class DivisibleByThreeOrFive {\n",
    "    // Method to find numbers divisible by 3 or 5 using a while loop\n",
    "    public static void whileLoopTest() {\n",
    "        int[] divisibleNumbersWhile = new int[50]; // Array to store numbers\n",
    "        int index = 0;\n",
    "        int number = 1;\n",
    "\n",
    "        while (number <= 50) {\n",
    "            if (number % 3 == 0 || number % 5 == 0) {\n",
    "                divisibleNumbersWhile[index] = number; // Store the number\n",
    "                index++;\n",
    "            }\n",
    "            number++;\n",
    "        }\n",
    "\n",
    "        // Print the results\n",
    "        System.out.println(\"Numbers divisible by 3 or 5 (while loop):\");\n",
    "        for (int i = 0; i < index; i++) {\n",
    "            System.out.print(divisibleNumbersWhile[i] + \" \");\n",
    "        }\n",
    "        System.out.println(); // For a new line\n",
    "    }\n",
    "\n",
    "    // Method to find numbers divisible by 3 or 5 using a for loop\n",
    "    public static void forLoopTest() {\n",
    "        int[] divisibleNumbersFor = new int[50]; // Array to store numbers\n",
    "        int index = 0;\n",
    "\n",
    "        for (int number = 1; number <= 50; number++) {\n",
    "            if (number % 3 == 0 || number % 5 == 0) {\n",
    "                divisibleNumbersFor[index] = number; // Store the number\n",
    "                index++;\n",
    "            }\n",
    "        }\n",
    "\n",
    "        // Print the results\n",
    "        System.out.println(\"Numbers divisible by 3 or 5 (for loop):\");\n",
    "        for (int i = 0; i < index; i++) {\n",
    "            System.out.print(divisibleNumbersFor[i] + \" \");\n",
    "        }\n",
    "        System.out.println(); // For a new line\n",
    "    }\n",
    "}\n",
    "Main.main(null)"
   ]
  },
  {
   "cell_type": "markdown",
   "metadata": {},
   "source": [
    "## Harder HW Hack"
   ]
  },
  {
   "cell_type": "code",
   "execution_count": 16,
   "metadata": {
    "vscode": {
     "languageId": "java"
    }
   },
   "outputs": [
    {
     "name": "stdout",
     "output_type": "stream",
     "text": [
      "Palindromes: 4444 515 2882 6556 595 "
     ]
    }
   ],
   "source": [
    "import java.util.ArrayList;\n",
    "\n",
    "public class PalindromeChecker {\n",
    "    public static void main(String[] args) {\n",
    "        // Sample input list\n",
    "        int[] test_list = {5672, 235, 5537, 6032, 317, 8460, 1672, 8104, 7770, 4442, 913, 2508, \n",
    "                           1116, 9969, 9091, 522, 8756, 9527, 7968, 1520, 4444, 515, 2882, 6556, 595};\n",
    "\n",
    "        // Call method to find palindromes\n",
    "        ArrayList<Integer> palindromes = findPalindromes(test_list);\n",
    "\n",
    "        // Output the found palindromes\n",
    "        System.out.print(\"Palindromes: \");\n",
    "        for (int palindrome : palindromes) {\n",
    "            System.out.print(palindrome + \" \");\n",
    "        }\n",
    "    }\n",
    "\n",
    "    public static ArrayList<Integer> findPalindromes(int[] list) {\n",
    "        ArrayList<Integer> palindromeList = new ArrayList<>();\n",
    "        int index = 0;\n",
    "\n",
    "        while (index < list.length) {\n",
    "            int currentNumber = list[index];\n",
    "\n",
    "            // Check if current number is a palindrome\n",
    "            if (isPalindrome(currentNumber)) {\n",
    "                palindromeList.add(currentNumber);\n",
    "            }\n",
    "\n",
    "            index++;\n",
    "        }\n",
    "\n",
    "        return palindromeList;\n",
    "    }\n",
    "\n",
    "    // Helper method to check if a number is a palindrome\n",
    "    public static boolean isPalindrome(int number) {\n",
    "        int originalNumber = number;\n",
    "        int reversedNumber = 0;\n",
    "\n",
    "        // Reverse the number\n",
    "        while (number != 0) {\n",
    "            int remainder = number % 10;\n",
    "            reversedNumber = reversedNumber * 10 + remainder;\n",
    "            number /= 10;\n",
    "        }\n",
    "\n",
    "        // Check if the original number matches the reversed number\n",
    "        return originalNumber == reversedNumber;\n",
    "    }\n",
    "}\n",
    "public class Main {\n",
    "    public static void main(String[] args) {\n",
    "        // Create an instance of PalindromeChecker\n",
    "        PalindromeChecker palindromeChecker = new PalindromeChecker();\n",
    "        \n",
    "        // Sample input list\n",
    "        int[] test_list = {5672, 235, 5537, 6032, 317, 8460, 1672, 8104, 7770, 4442, 913, 2508, \n",
    "                           1116, 9969, 9091, 522, 8756, 9527, 7968, 1520, 4444, 515, 2882, 6556, 595};\n",
    "\n",
    "        // Call method to find palindromes\n",
    "        System.out.print(\"Palindromes: \");\n",
    "        for (int palindrome : palindromeChecker.findPalindromes(test_list)) {\n",
    "            System.out.print(palindrome + \" \");\n",
    "        }\n",
    "    }\n",
    "}\n",
    "\n",
    "Main.main(null)"
   ]
  },
  {
   "cell_type": "markdown",
   "metadata": {
    "vscode": {
     "languageId": "java"
    }
   },
   "source": [
    "## Bonus Hack"
   ]
  },
  {
   "cell_type": "code",
   "execution_count": 17,
   "metadata": {
    "vscode": {
     "languageId": "java"
    }
   },
   "outputs": [
    {
     "name": "stdout",
     "output_type": "stream",
     "text": [
      "Spiral Matrix of size 3x3:\n",
      "1 2 3 \n",
      "8 9 4 \n",
      "7 6 5 \n"
     ]
    }
   ],
   "source": [
    "import java.util.Arrays;\n",
    "\n",
    "public class SpiralMatrix {\n",
    "    public static int[][] generateSpiralMatrix(int n) {\n",
    "        // Initialize an empty n x n matrix\n",
    "        int[][] matrix = new int[n][n];\n",
    "        \n",
    "        // Variables to define boundaries of the spiral\n",
    "        int top = 0, bottom = n - 1, left = 0, right = n - 1;\n",
    "        \n",
    "        // Start filling the matrix from number 1\n",
    "        int num = 1;\n",
    "\n",
    "        // Loop until the entire matrix is filled\n",
    "        while (num <= n * n) {\n",
    "            // Fill the top row (left to right)\n",
    "            for (int i = left; i <= right; i++) {\n",
    "                matrix[top][i] = num++;\n",
    "            }\n",
    "            top++;  // Move the top boundary down\n",
    "\n",
    "            // Fill the right column (top to bottom)\n",
    "            for (int i = top; i <= bottom; i++) {\n",
    "                matrix[i][right] = num++;\n",
    "            }\n",
    "            right--;  // Move the right boundary left\n",
    "\n",
    "            // Fill the bottom row (right to left) if still valid\n",
    "            if (top <= bottom) {\n",
    "                for (int i = right; i >= left; i--) {\n",
    "                    matrix[bottom][i] = num++;\n",
    "                }\n",
    "                bottom--;  // Move the bottom boundary up\n",
    "            }\n",
    "\n",
    "            // Fill the left column (bottom to top) if still valid\n",
    "            if (left <= right) {\n",
    "                for (int i = bottom; i >= top; i--) {\n",
    "                    matrix[i][left] = num++;\n",
    "                }\n",
    "                left++;  // Move the left boundary right\n",
    "            }\n",
    "        }\n",
    "\n",
    "        return matrix;\n",
    "    }\n",
    "\n",
    "    public static void main(String[] args) {\n",
    "        // Example input: n = 3\n",
    "        int n = 3;\n",
    "\n",
    "        // Generate and print the spiral matrix\n",
    "        int[][] spiralMatrix = generateSpiralMatrix(n);\n",
    "        \n",
    "        // Print the matrix in a readable format\n",
    "        for (int[] row : spiralMatrix) {\n",
    "            System.out.println(Arrays.toString(row));\n",
    "        }\n",
    "    }\n",
    "}\n",
    "public class Main {\n",
    "    public static void main(String[] args) {\n",
    "        // Define the size of the matrix (example: n = 3)\n",
    "        int n = 3;\n",
    "\n",
    "        // Create an instance of SpiralMatrix and generate the spiral matrix\n",
    "        int[][] spiralMatrix = SpiralMatrix.generateSpiralMatrix(n);\n",
    "\n",
    "        // Print the generated spiral matrix\n",
    "        System.out.println(\"Spiral Matrix of size \" + n + \"x\" + n + \":\");\n",
    "        for (int[] row : spiralMatrix) {\n",
    "            for (int num : row) {\n",
    "                System.out.print(num + \" \");\n",
    "            }\n",
    "            System.out.println(); // Move to the next line after printing each row\n",
    "        }\n",
    "    }\n",
    "}\n",
    "Main.main(null)"
   ]
  }
 ],
 "metadata": {
  "kernelspec": {
   "display_name": "Java",
   "language": "java",
   "name": "java"
  },
  "language_info": {
   "codemirror_mode": "java",
   "file_extension": ".jshell",
   "mimetype": "text/x-java-source",
   "name": "Java",
   "pygments_lexer": "java",
   "version": "17.0.12+7"
  }
 },
 "nbformat": 4,
 "nbformat_minor": 2
}
