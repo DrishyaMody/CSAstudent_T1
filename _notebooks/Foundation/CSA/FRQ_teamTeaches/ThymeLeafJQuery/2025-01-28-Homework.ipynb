{
 "cells": [
  {
   "cell_type": "raw",
   "metadata": {
    "vscode": {
     "languageId": "raw"
    }
   },
   "source": [
    "---\n",
    "layout: post\n",
    "toc: true\n",
    "title: JQuery/Thymeleaf Homework\n",
    "description: Homework for JQuery/Thymeleaf \n",
    "menu: nav/FRQ_teach/jquery-thymeleafp3.html\n",
    "author: Akhil, Tarun, Kayden\n",
    "permalink: /period3/jquery-thymeleaf-homework\n",
    "---"
   ]
  },
  {
   "cell_type": "markdown",
   "metadata": {},
   "source": [
    "# Question 1: jQuery - Dynamic Content Update\n",
    "\n",
    "Objective:\n",
    "Use jQuery to dynamically update a p element with user input from an input field when a button is clicked."
   ]
  },
  {
   "cell_type": "markdown",
   "metadata": {},
   "source": [
    "<html lang=\"en\">\n",
    "<head>\n",
    "    <meta charset=\"UTF-8\">\n",
    "    <meta name=\"viewport\" content=\"width=device-width, initial-scale=1.0\">\n",
    "    <title>jQuery Dynamic Update</title>\n",
    "    <script src=\"https://code.jquery.com/jquery-3.6.0.min.js\"></script>\n",
    "</head>\n",
    "<body>\n",
    "\n",
    "    <input type=\"text\" id=\"userInput\" placeholder=\"Enter text here\">\n",
    "    <button id=\"updateBtn\">Update</button>\n",
    "    <p id=\"output\">This text will change</p>\n",
    "\n",
    "    <script>\n",
    "        $(document).ready(function() {\n",
    "            $(\"#updateBtn\").click(function() {\n",
    "                var userText = $(\"#userInput\").val();  // Get user input\n",
    "                $(\"#output\").text(userText);  // Update <p> content\n",
    "            });\n",
    "        });\n",
    "    </script>\n",
    "\n",
    "</body>\n",
    "</html>\n"
   ]
  },
  {
   "cell_type": "markdown",
   "metadata": {
    "vscode": {
     "languageId": "html"
    }
   },
   "source": [
    "<head>\n",
    "    <title>jQuery Dynamic Update</title>\n",
    "    <script src=\"https://code.jquery.com/jquery-3.6.0.min.js\"></script>\n",
    "</head>\n",
    "<body>\n",
    "\n",
    "<script>\n",
    "    $(document).ready(function() {\n",
    "        // TODO: Implement live text update\n",
    "        // TODO: Display character count\n",
    "        // TODO: Show warning if character limit is reached\n",
    "    });\n",
    "</script>"
   ]
  },
  {
   "cell_type": "markdown",
   "metadata": {},
   "source": [
    "# Question 2: Thymeleaf - Displaying a List of Items\n",
    "\n",
    "Objective:\n",
    "Use Thymeleaf to display a list of students stored in a backend Java controller.\n",
    "\n",
    "Info you may need:\n",
    "  - student.getStatus(): Returns True if the student passed, returns False if the student failed\n",
    "  - student.getName(): Returns student name\n",
    "  - student.getGrade(): Returns student grade\n",
    "\n",
    "\n",
    "\n",
    "<html xmlns:th=\"http://www.thymeleaf.org\">\n",
    "<head>\n",
    "    <meta charset=\"UTF-8\">\n",
    "    <title>Student List</title>\n",
    "</head>\n",
    "<body>\n",
    "\n",
    "<h2>Student List</h2>\n",
    "\n",
    "<table border=\"1\">\n",
    "    <thead>\n",
    "        <tr>\n",
    "            <th>Name</th>\n",
    "            <th>Grade</th>\n",
    "            <th>Status</th>\n",
    "        </tr>\n",
    "    </thead>\n",
    "    <tbody>\n",
    "        <tr th:each=\"student : ${students}\">\n",
    "            <td th:text=\"${student.getName()}\"></td>\n",
    "            <td th:text=\"${student.getGrade()}\"></td>\n",
    "            <td th:text=\"${student.getStatus() ? 'Passed' : 'Failed'}\"></td>\n",
    "        </tr>\n",
    "    </tbody>\n",
    "</table>\n",
    "\n",
    "</body>\n",
    "</html>\n"
   ]
  },
  {
   "cell_type": "markdown",
   "metadata": {
    "vscode": {
     "languageId": "html"
    }
   },
   "source": [
    "<title>Student List</title>\n",
    "<style>\n",
    "    .failed {\n",
    "        color: red;\n",
    "        font-weight: bold;\n",
    "    }\n",
    "</style>\n",
    "\n",
    "<h2>Student List</h2>\n",
    "<table border=\"1\">\n",
    "    <thead>\n",
    "        <tr>\n",
    "            <th>Name</th>\n",
    "            <th>Grade</th>\n",
    "            <th>Status</th>\n",
    "        </tr>\n",
    "    </thead>\n",
    "    <tbody>\n",
    "        <tr>\n",
    "        <!-- Display each student and apply red styling if the student failed -->\n",
    "        </tr>\n",
    "    </tbody>\n",
    "</table>"
   ]
  },
  {
   "cell_type": "markdown",
   "metadata": {},
   "source": [
    "# Bonus Question:\n",
    "\n",
    "Why is Thymeleaf better than creating a regular table? What are any potential pros and cons of Thymeleaf tables?\n",
    "\n",
    "\n",
    "Dynamic Data Binding – Thymeleaf allows seamless integration with Java objects, enabling dynamic data population from backend services without manually writing repetitive HTML.\n",
    "Template Reusability – You can create reusable table components, making the UI easier to maintain and modify.\n",
    "Cleaner and Readable Code – Thymeleaf reduces the amount of JavaScript or scriptlet-based logic in HTML, making the template more readable and maintainable.\n",
    "Security Features – Thymeleaf automatically escapes output values to prevent XSS (Cross-Site Scripting) attacks.\n",
    "\n",
    "\n",
    "\n",
    "\n",
    "### Pros of Thymeleaf:\n",
    "- **Dynamic Data Binding:** Integrates directly with Java objects, reducing the need for repetitive HTML.\n",
    "- **Template Reusability:** Supports reusable table components for maintainability.\n",
    "- **Cleaner Code:** Reduces JavaScript and scriptlet-based logic.\n",
    "- **Security Features:** Escapes output values to prevent XSS (Cross-Site Scripting) attacks.\n",
    "\n",
    "### Cons of Thymeleaf:\n",
    "- **Requires a Backend Framework:** Needs a Spring Boot or Java-based backend.\n",
    "- **Not Suitable for Pure Frontend Apps:** If your project is frontend-heavy (React, Angular), Thymeleaf may not be ideal.\n"
   ]
  }
 ],
 "metadata": {
  "kernelspec": {
   "display_name": "venv",
   "language": "python",
   "name": "python3"
  },
  "language_info": {
   "codemirror_mode": {
    "name": "ipython",
    "version": 3
   },
   "file_extension": ".py",
   "mimetype": "text/x-python",
   "name": "python",
   "nbconvert_exporter": "python",
   "pygments_lexer": "ipython3",
   "version": "3.12.5"
  },
  "orig_nbformat": 4
 },
 "nbformat": 4,
 "nbformat_minor": 2
}
