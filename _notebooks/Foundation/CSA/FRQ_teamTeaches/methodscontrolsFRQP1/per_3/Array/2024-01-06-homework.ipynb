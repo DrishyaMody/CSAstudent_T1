{
 "cells": [
  {
   "cell_type": "markdown",
   "metadata": {},
   "source": [
    "---\n",
    "layout: post\n",
    "toc: true\n",
    "title: Array/Homework\n",
    "description: AP CSA FRQ Array/Arraylist Homework\n",
    "courses: { csa: {week: 1} }\n",
    "type: ccc\n",
    "categories: [AP CSA]\n",
    "menu: nav/FRQ_Teach/array.html\n",
    "permalink: /teamteach/array/homework\n",
    "---"
   ]
  },
  {
   "cell_type": "markdown",
   "metadata": {},
   "source": [
    "# Homework\n",
    "\n",
    "Write a program that randomly fills in 0s and 1s into an n-by-n matrix, prints the matrix, and finds the rows and columns with the most 1s. (Hint: Use two ArrayLists to store the row and column indices with the most 1s.) \n",
    "\n",
    "Here is a sample run of the program, printed in the console: \n",
    "```\n",
    "Enter the array size n: 4\n",
    "The random array is\n",
    "0011\n",
    "0011\n",
    "1101\n",
    "1010\n",
    "The largest row index: 2\n",
    "The largest column index: 2, 3 \n",
    "```"
   ]
  },
  {
   "cell_type": "code",
   "execution_count": 1,
   "metadata": {
    "vscode": {
     "languageId": "java"
    }
   },
   "outputs": [
    {
     "name": "stdout",
     "output_type": "stream",
     "text": [
      "Enter the array size n: The random array is:\n",
      "1000010001\n",
      "1110000011\n",
      "1101100011\n",
      "0001101001\n",
      "0101111100\n",
      "1000010100\n",
      "0001000001\n",
      "1010001010\n",
      "0001010011\n",
      "1001100000\n",
      "The largest row index: 2, 4\n",
      "The largest column index: 0, 3, 9\n"
     ]
    }
   ],
   "source": [
    "import java.util.ArrayList;\n",
    "import java.util.Scanner;\n",
    "import java.util.Random;\n",
    "\n",
    "public class MatrixMaxOnes {\n",
    "    public static void main(String[] args) {\n",
    "        Scanner scanner = new Scanner(System.in);\n",
    "        Random random = new Random();\n",
    "\n",
    "        // Prompt user for the size of the matrix\n",
    "        System.out.print(\"Enter the array size n: \");\n",
    "        int n = scanner.nextInt();\n",
    "\n",
    "        // Create and fill the matrix with random 0s and 1s\n",
    "        int[][] matrix = new int[n][n];\n",
    "        System.out.println(\"The random array is:\");\n",
    "        for (int i = 0; i < n; i++) {\n",
    "            for (int j = 0; j < n; j++) {\n",
    "                matrix[i][j] = random.nextInt(2); // Generates 0 or 1\n",
    "                System.out.print(matrix[i][j]);\n",
    "            }\n",
    "            System.out.println();\n",
    "        }\n",
    "\n",
    "        // Arrays to store the count of 1s in rows and columns\n",
    "        int[] rowCounts = new int[n];\n",
    "        int[] colCounts = new int[n];\n",
    "\n",
    "        // Count 1s in rows and columns\n",
    "        for (int i = 0; i < n; i++) {\n",
    "            for (int j = 0; j < n; j++) {\n",
    "                if (matrix[i][j] == 1) {\n",
    "                    rowCounts[i]++;\n",
    "                    colCounts[j]++;\n",
    "                }\n",
    "            }\n",
    "        }\n",
    "\n",
    "        // Find the maximum counts for rows and columns\n",
    "        int maxRowCount = 0;\n",
    "        int maxColCount = 0;\n",
    "        for (int i = 0; i < n; i++) {\n",
    "            if (rowCounts[i] > maxRowCount) maxRowCount = rowCounts[i];\n",
    "            if (colCounts[i] > maxColCount) maxColCount = colCounts[i];\n",
    "        }\n",
    "\n",
    "        // Find the indices of rows and columns with the most 1s\n",
    "        ArrayList<Integer> maxRowIndices = new ArrayList<>();\n",
    "        ArrayList<Integer> maxColIndices = new ArrayList<>();\n",
    "\n",
    "        for (int i = 0; i < n; i++) {\n",
    "            if (rowCounts[i] == maxRowCount) maxRowIndices.add(i);\n",
    "            if (colCounts[i] == maxColCount) maxColIndices.add(i);\n",
    "        }\n",
    "\n",
    "        // Print results\n",
    "        System.out.print(\"The largest row index: \");\n",
    "        for (int i = 0; i < maxRowIndices.size(); i++) {\n",
    "            System.out.print(maxRowIndices.get(i));\n",
    "            if (i < maxRowIndices.size() - 1) System.out.print(\", \");\n",
    "        }\n",
    "        System.out.println();\n",
    "\n",
    "        System.out.print(\"The largest column index: \");\n",
    "        for (int i = 0; i < maxColIndices.size(); i++) {\n",
    "            System.out.print(maxColIndices.get(i));\n",
    "            if (i < maxColIndices.size() - 1) System.out.print(\", \");\n",
    "        }\n",
    "        System.out.println();\n",
    "    }\n",
    "}\n",
    "MatrixMaxOnes.main(null)"
   ]
  }
 ],
 "metadata": {
  "kernelspec": {
   "display_name": "Java",
   "language": "java",
   "name": "java"
  },
  "language_info": {
   "codemirror_mode": "java",
   "file_extension": ".jshell",
   "mimetype": "text/x-java-source",
   "name": "Java",
   "pygments_lexer": "java",
   "version": "17.0.12+7"
  }
 },
 "nbformat": 4,
 "nbformat_minor": 2
}
