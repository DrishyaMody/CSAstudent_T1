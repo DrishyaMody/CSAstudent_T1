{
 "cells": [
  {
   "cell_type": "markdown",
   "metadata": {},
   "source": [
    "---\n",
    "layout: post\n",
    "title: Unit 6 Array Hacks\n",
    "courses: {'csa': {'week': 6}}\n",
    "comments: true\n",
    "type: ccc\n",
    "---"
   ]
  },
  {
   "cell_type": "markdown",
   "metadata": {},
   "source": [
    "**6.1 POPCORN HACKS** "
   ]
  },
  {
   "cell_type": "code",
   "execution_count": 9,
   "metadata": {
    "vscode": {
     "languageId": "java"
    }
   },
   "outputs": [
    {
     "name": "stdout",
     "output_type": "stream",
     "text": [
      "First element: San Diego\n"
     ]
    }
   ],
   "source": [
    "public class CityArrayExample {\n",
    "    public static void main(String[] args) {\n",
    "        // Create an array with the specified cities\n",
    "        String[] city_array = {\"San Diego\", \"Los Angeles\", \"San Francisco\", \"Sacramento\"};\n",
    "        System.out.println(\"First element: \" + city_array[0]);\n",
    "    }\n",
    "}\n",
    "CityArrayExample.main(null)"
   ]
  },
  {
   "cell_type": "code",
   "execution_count": 10,
   "metadata": {
    "vscode": {
     "languageId": "java"
    }
   },
   "outputs": [
    {
     "name": "stdout",
     "output_type": "stream",
     "text": [
      "Third element: San Francisco\n"
     ]
    }
   ],
   "source": [
    "public class CityArrayExample {\n",
    "    public static void main(String[] args) {\n",
    "        String[] city_array = {\"San Diego\", \"Los Angeles\", \"San Francisco\", \"Sacramento\"};\n",
    "        \n",
    "        // Print the third element in the array\n",
    "        System.out.println(\"Third element: \" + city_array[2]);\n",
    "    }\n",
    "}\n",
    "CityArrayExample.main(null)"
   ]
  },
  {
   "cell_type": "code",
   "execution_count": 11,
   "metadata": {
    "vscode": {
     "languageId": "java"
    }
   },
   "outputs": [
    {
     "name": "stdout",
     "output_type": "stream",
     "text": [
      "Updated city_array: [San Diego, Sacramento, San Francisco, Sacramento]\n"
     ]
    }
   ],
   "source": [
    "public class CityArrayExample {\n",
    "    public static void main(String[] args) {\n",
    "        String[] city_array = {\"San Diego\", \"Los Angeles\", \"San Francisco\", \"Sacramento\"};\n",
    "        \n",
    "        // Change the second element to \"Sacramento\"\n",
    "        city_array[1] = \"Sacramento\";\n",
    "        \n",
    "        // Print the updated city_array\n",
    "        System.out.println(\"Updated city_array: \" + java.util.Arrays.toString(city_array));\n",
    "    }\n",
    "}\n",
    "CityArrayExample.main(null)"
   ]
  },
  {
   "cell_type": "code",
   "execution_count": 12,
   "metadata": {
    "vscode": {
     "languageId": "java"
    }
   },
   "outputs": [
    {
     "name": "stdout",
     "output_type": "stream",
     "text": [
      "Updated city_array: [San Diego, Los Angeles, San Francisco, San Jose]\n"
     ]
    }
   ],
   "source": [
    "public class CityArrayExample {\n",
    "    public static void main(String[] args) {\n",
    "        String[] city_array = {\"San Diego\", \"Los Angeles\", \"San Francisco\", \"Sacramento\"};\n",
    "        \n",
    "        // Change the fourth element to \"San Jose\"\n",
    "        city_array[3] = \"San Jose\";\n",
    "        \n",
    "        // Print the updated city_array\n",
    "        System.out.println(\"Updated city_array: \" + java.util.Arrays.toString(city_array));\n",
    "    }\n",
    "}\n",
    "CityArrayExample.main(null)"
   ]
  },
  {
   "cell_type": "code",
   "execution_count": 13,
   "metadata": {
    "vscode": {
     "languageId": "java"
    }
   },
   "outputs": [
    {
     "name": "stdout",
     "output_type": "stream",
     "text": [
      "Length of the array: 4\n"
     ]
    }
   ],
   "source": [
    "public class CityArrayExample {\n",
    "    public static void main(String[] args) {\n",
    "        String[] city_array = {\"San Diego\", \"Los Angeles\", \"San Francisco\", \"Sacramento\"};\n",
    "        \n",
    "        // Print the length of the array\n",
    "        System.out.println(\"Length of the array: \" + city_array.length);\n",
    "    }\n",
    "}\n"
   ]
  },
  {
   "cell_type": "code",
   "execution_count": 15,
   "metadata": {
    "vscode": {
     "languageId": "java"
    }
   },
   "outputs": [
    {
     "name": "stdout",
     "output_type": "stream",
     "text": [
      "Updated city_array: [San Diego, Sacramento, San Francisco, San Jose]\n"
     ]
    }
   ],
   "source": [
    "public class CityArrayExample {\n",
    "    public static void main(String[] args) {\n",
    "        String[] city_array = {\"San Diego\", \"Sacramento\", \"San Francisco\", \"San Jose\"};\n",
    "        \n",
    "        // Print the updated city_array\n",
    "        System.out.println(\"Updated city_array: \" + java.util.Arrays.toString(city_array));\n",
    "    }\n",
    "}\n",
    "CityArrayExample.main(null)"
   ]
  },
  {
   "cell_type": "markdown",
   "metadata": {},
   "source": [
    "**6.1 POPCORN HACK 2**"
   ]
  },
  {
   "cell_type": "code",
   "execution_count": 16,
   "metadata": {
    "vscode": {
     "languageId": "java"
    }
   },
   "outputs": [
    {
     "name": "stdout",
     "output_type": "stream",
     "text": [
      "Second element of intArray: 2\n",
      "Second element of stringArray: World\n",
      "Second element of doubleArray: 2.2\n",
      "Second element of booleanArray: false\n"
     ]
    }
   ],
   "source": [
    "public class InitializedArrays {\n",
    "    public static void main(String[] args) {\n",
    "        // Initialize an int array\n",
    "        int[] intArray = {1, 2, 3, 4, 5};\n",
    "        // Print the second element of the int array\n",
    "        System.out.println(\"Second element of intArray: \" + intArray[1]);\n",
    "\n",
    "        // Initialize a String array\n",
    "        String[] stringArray = {\"Hello\", \"World\", \"Java\", \"Programming\"};\n",
    "        // Print the second element of the String array\n",
    "        System.out.println(\"Second element of stringArray: \" + stringArray[1]);\n",
    "\n",
    "        // Initialize a double array\n",
    "        double[] doubleArray = {1.1, 2.2, 3.3, 4.4};\n",
    "        // Print the second element of the double array\n",
    "        System.out.println(\"Second element of doubleArray: \" + doubleArray[1]);\n",
    "\n",
    "        // Initialize a boolean array\n",
    "        boolean[] booleanArray = {true, false, true};\n",
    "        // Print the second element of the boolean array\n",
    "        System.out.println(\"Second element of booleanArray: \" + booleanArray[1]);\n",
    "    }\n",
    "}\n",
    "InitializedArrays.main(null)"
   ]
  },
  {
   "cell_type": "code",
   "execution_count": 30,
   "metadata": {
    "vscode": {
     "languageId": "java"
    }
   },
   "outputs": [
    {
     "name": "stdout",
     "output_type": "stream",
     "text": [
      "Second element of intArray: 0\n",
      "Second element of stringArray: null\n",
      "Second element of doubleArray: 0.0\n",
      "Second element of booleanArray: false\n"
     ]
    }
   ],
   "source": [
    "public class DefaultArrayValues {\n",
    "    public static void main(String[] args) {\n",
    "        // Initialize arrays for each data type\n",
    "        int[] intArray = new int[4];        // Default value for int is 0\n",
    "        String[] stringArray = new String[4];  // Default value for String (objects) is null\n",
    "        double[] doubleArray = new double[4];  // Default value for double is 0.0\n",
    "        boolean[] booleanArray = new boolean[4]; // Default value for boolean is false\n",
    "\n",
    "        // Print the second element of each array (index 1)\n",
    "        System.out.println(\"Second element of intArray: \" + intArray[1]);         // 0\n",
    "        System.out.println(\"Second element of stringArray: \" + stringArray[1]);   // null\n",
    "        System.out.println(\"Second element of doubleArray: \" + doubleArray[1]);   // 0.0\n",
    "        System.out.println(\"Second element of booleanArray: \" + booleanArray[1]); // false\n",
    "    }\n",
    "}\n",
    "DefaultArrayValues.main(null)"
   ]
  },
  {
   "cell_type": "markdown",
   "metadata": {},
   "source": [
    "**6.1 MCQS**\n",
    "1. D. arr[arr.length - 3].indexOf(find)\n",
    "2. B. 12\n",
    "\n",
    "\n",
    "\n",
    "\n",
    "\n",
    "\n"
   ]
  },
  {
   "cell_type": "markdown",
   "metadata": {},
   "source": [
    "**6.2 POPCORN HACKS**"
   ]
  },
  {
   "cell_type": "code",
   "execution_count": null,
   "metadata": {
    "vscode": {
     "languageId": "java"
    }
   },
   "outputs": [
    {
     "name": "stdout",
     "output_type": "stream",
     "text": [
      "6\n"
     ]
    }
   ],
   "source": [
    "public static int sumOfEvenNumbers(int[] arr) {\n",
    "    int sum = 0;\n",
    "    \n",
    "    // Iterate through the array\n",
    "    for (int num : arr) {\n",
    "        // Check if the number is even\n",
    "        if (num % 2 == 0) {\n",
    "            sum += num;\n",
    "        }\n",
    "    }\n",
    "    \n",
    "    return sum;\n",
    "}\n",
    "\n",
    "// Example usage:\n",
    "int[] arr = {1, 2, 3, 4, 5};\n",
    "System.out.println(sumOfEvenNumbers(arr)); // Output: 6\n"
   ]
  },
  {
   "cell_type": "markdown",
   "metadata": {},
   "source": [
    "**6.2 PopCorn Hack 2**"
   ]
  },
  {
   "cell_type": "code",
   "execution_count": null,
   "metadata": {
    "vscode": {
     "languageId": "java"
    }
   },
   "outputs": [
    {
     "name": "stdout",
     "output_type": "stream",
     "text": [
      "3\n"
     ]
    }
   ],
   "source": [
    "public class Main {\n",
    "    // Method to count occurrences using a for-each loop\n",
    "    public static int countOccurrences(int[] arr, int target) {\n",
    "        /*\n",
    "         * This function takes an array of integers and a target integer as input\n",
    "         * and returns the number of times the target integer appears in the array.\n",
    "         */\n",
    "        int count = 0; // Initialize a counter to zero\n",
    "\n",
    "        // For-each loop to iterate through each element in the array\n",
    "        for (int num : arr) {\n",
    "            if (num == target) { // Check if the current number equals the target\n",
    "                count++; // Increment the counter if it matches\n",
    "            }\n",
    "        }\n",
    "\n",
    "        return count; // Return the total count\n",
    "    }\n",
    "\n",
    "    // Main method to run the example\n",
    "    public static void main(String[] args) {\n",
    "        int[] arr = {3, 5, 3, 3, 7, 5}; // Array of integers\n",
    "        int target = 3; // Target integer to count\n",
    "\n",
    "        // Printing the result of countOccurrences\n",
    "        System.out.println(countOccurrences(arr, target)); // Output should be: 3\n",
    "    }\n",
    "}\n",
    "Main.main(null)\n"
   ]
  },
  {
   "cell_type": "markdown",
   "metadata": {},
   "source": [
    "**6.2 POPCORNHACK 3**"
   ]
  },
  {
   "cell_type": "code",
   "execution_count": 19,
   "metadata": {
    "vscode": {
     "languageId": "java"
    }
   },
   "outputs": [
    {
     "name": "stdout",
     "output_type": "stream",
     "text": [
      "2\n",
      "-1\n"
     ]
    }
   ],
   "source": [
    "public class FirstNegativeFinder {\n",
    "    public static int firstNegativeIndex(int[] arr) {\n",
    "        /*\n",
    "         * This function takes an array of integers as input and returns the index of the first negative number in the array. \n",
    "         * If there are no negative numbers in the array, the function should return -1.\n",
    "         */\n",
    "\n",
    "        int index = 0; // Start at the first index\n",
    "        while (index < arr.length) { // Traverse the array\n",
    "            if (arr[index] < 0) { // Check if the current element is negative\n",
    "                return index; // Return the index of the first negative number\n",
    "            }\n",
    "            index++; // Move to the next index\n",
    "        }\n",
    "        return -1; // Return -1 if no negative number is found\n",
    "    }\n",
    "\n",
    "    public static void main(String[] args) {\n",
    "        // Example usage:\n",
    "        int[] arr = {4, 7, -2, 5};\n",
    "        System.out.println(firstNegativeIndex(arr)); // Output: 2\n",
    "\n",
    "        int[] arr2 = {1, 2, 3, 4};\n",
    "        System.out.println(firstNegativeIndex(arr2)); // Output: -1\n",
    "    }\n",
    "}\n",
    "FirstNegativeFinder.main(null)"
   ]
  },
  {
   "cell_type": "markdown",
   "metadata": {},
   "source": [
    "**MC QUESTION**\n",
    "\n",
    "1. C\n",
    "2. E\n",
    "3. B\n",
    "\n"
   ]
  },
  {
   "cell_type": "markdown",
   "metadata": {},
   "source": [
    "**6.2 HOMEWORK HACK**\n"
   ]
  },
  {
   "cell_type": "code",
   "execution_count": 20,
   "metadata": {
    "vscode": {
     "languageId": "java"
    }
   },
   "outputs": [
    {
     "name": "stdout",
     "output_type": "stream",
     "text": [
      "6\n",
      "-1\n"
     ]
    }
   ],
   "source": [
    "public class HomeworkHack {\n",
    "    public static int findSecondLargest(int[] arr) {\n",
    "        /*\n",
    "         * This function takes an array of integers as input and returns the second largest unique element in the array. \n",
    "         * If the array has less than 2 distinct elements, the function should return -1.\n",
    "         */\n",
    "\n",
    "        // Use a HashSet to store unique elements\n",
    "        java.util.Set<Integer> uniqueElements = new java.util.HashSet<>();\n",
    "\n",
    "        // Add all elements from the array to the set\n",
    "        for (int num : arr) {\n",
    "            uniqueElements.add(num);\n",
    "        }\n",
    "\n",
    "        // Convert the set back to an array and sort it\n",
    "        Integer[] uniqueArray = uniqueElements.toArray(new Integer[0]);\n",
    "        Arrays.sort(uniqueArray);\n",
    "\n",
    "        // Check if there are at least two unique elements\n",
    "        if (uniqueArray.length < 2) {\n",
    "            return -1; // Not enough unique elements\n",
    "        }\n",
    "\n",
    "        // Return the second largest unique element\n",
    "        return uniqueArray[uniqueArray.length - 2];\n",
    "    }\n",
    "\n",
    "    public static void main(String[] args) {\n",
    "        int[] arr1 = {3, 1, 4, 1, 5, 9, 2, 6};\n",
    "        System.out.println(findSecondLargest(arr1)); // Output: 6\n",
    "\n",
    "        int[] arr2 = {10, 10, 10, 10};\n",
    "        System.out.println(findSecondLargest(arr2)); // Output: -1\n",
    "    }\n",
    "}\n",
    "HomeworkHack.main(null)"
   ]
  },
  {
   "cell_type": "markdown",
   "metadata": {},
   "source": [
    "**6.3 POPCORN HACKS**"
   ]
  },
  {
   "cell_type": "code",
   "execution_count": null,
   "metadata": {
    "vscode": {
     "languageId": "java"
    }
   },
   "outputs": [
    {
     "name": "stdout",
     "output_type": "stream",
     "text": [
      "Java\n",
      "Python\n",
      "Markdown\n"
     ]
    }
   ],
   "source": [
    "public class PopcornHack {\n",
    "    public static void main(String[] args) {\n",
    "        \n",
    "        String[] languages = {\"Java\", \"Python\", \"Markdown\", };\n",
    "        \n",
    "       \n",
    "        for (String language : languages) {\n",
    "            System.out.println(language);  // Printing each language directly\n",
    "        }\n",
    "    }\n",
    "}\n",
    "\n",
    "PopcornHack.main(null)"
   ]
  },
  {
   "cell_type": "markdown",
   "metadata": {},
   "source": [
    "**6.3 FINAL HACK**"
   ]
  },
  {
   "cell_type": "code",
   "execution_count": null,
   "metadata": {
    "vscode": {
     "languageId": "java"
    }
   },
   "outputs": [
    {
     "name": "stdout",
     "output_type": "stream",
     "text": [
      "Enter a grade: [88, 93, 55, 68, 77, 88, 88]\n"
     ]
    }
   ],
   "source": [
    "Integer[] grades = {88, 93, 55, 68, 77};\n",
    "\n",
    "Scanner userGrades = new Scanner(System.in);\n",
    "System.out.print(\"Enter a grade: \");\n",
    "int grade = Integer.parseInt(userGrades.nextLine());\n",
    "\n",
    "grades = Arrays.copyOf(grades, grades.length + 1);\n",
    "grades[grades.length - 1] = grade;\n",
    "\n",
    "grades = Arrays.copyOf(grades, grades.length + 1);\n",
    "grades[grades.length - 1] = grade;\n",
    "System.out.println(Arrays.toString(grades));"
   ]
  },
  {
   "cell_type": "markdown",
   "metadata": {},
   "source": [
    "**6.4 POPCORN HACK**"
   ]
  },
  {
   "cell_type": "code",
   "execution_count": 21,
   "metadata": {
    "vscode": {
     "languageId": "java"
    }
   },
   "outputs": [
    {
     "name": "stdout",
     "output_type": "stream",
     "text": [
      "Increase\n",
      "Increase\n",
      "Increase\n",
      "Increase\n",
      "Increase\n",
      "Maximum value: 12\n",
      "Minimum value: -1\n"
     ]
    }
   ],
   "source": [
    "public class MaxMinInArray {\n",
    "\n",
    "    public static void findMaxAndMin(int[] array) {\n",
    "       \n",
    "        if (array == null || array.length == 0) {\n",
    "            System.out.println(\"Array is empty\");\n",
    "            return;\n",
    "        }\n",
    "\n",
    "        int max = array[0];\n",
    "        int min = array[0];\n",
    "\n",
    "        for (int i = 1; i < array.length; i++) {\n",
    "            // Check if the current element is greater than the one below it\n",
    "            if (array[i] > array[i - 1]) {\n",
    "                System.out.println(\"Increase\");\n",
    "            }\n",
    "            \n",
    "            // Update max and min values\n",
    "            if (array[i] > max) {\n",
    "                max = array[i];  \n",
    "            }\n",
    "            if (array[i] < min) {\n",
    "                min = array[i];  \n",
    "            }\n",
    "        }\n",
    "\n",
    "        System.out.println(\"Maximum value: \" + max);\n",
    "        System.out.println(\"Minimum value: \" + min);\n",
    "    }\n",
    "\n",
    "    public static void main(String[] args) {\n",
    "     \n",
    "        int[] array = {3, 5, 7, 2, 8, -1, 4, 0, 12};\n",
    "\n",
    "        findMaxAndMin(array);\n",
    "    }\n",
    "}\n",
    "MaxMinInArray.main(null)"
   ]
  },
  {
   "cell_type": "markdown",
   "metadata": {
    "vscode": {
     "languageId": "java"
    }
   },
   "source": [
    "**6.4 HW Hack 1**"
   ]
  },
  {
   "cell_type": "code",
   "execution_count": 22,
   "metadata": {
    "vscode": {
     "languageId": "java"
    }
   },
   "outputs": [
    {
     "name": "stdout",
     "output_type": "stream",
     "text": [
      "5\n",
      "4\n",
      "3\n",
      "2\n",
      "1\n",
      "0\n"
     ]
    }
   ],
   "source": [
    "public class ReverseArrayOutput {\n",
    "    public static void main(String[] args) {\n",
    "        Integer[] myArray = {0, 1, 2, 3, 4, 5};\n",
    "\n",
    "        // Loop to go through the array in reverse order\n",
    "        for (int i = myArray.length - 1; i >= 0; i--) {\n",
    "            // Output each object\n",
    "            System.out.println(myArray[i]);\n",
    "        }\n",
    "    }\n",
    "}\n",
    "ReverseArrayOutput.main(null)"
   ]
  },
  {
   "cell_type": "markdown",
   "metadata": {},
   "source": [
    "**6.4 HW Hack 2**"
   ]
  },
  {
   "cell_type": "code",
   "execution_count": 23,
   "metadata": {
    "vscode": {
     "languageId": "java"
    }
   },
   "outputs": [
    {
     "name": "stdout",
     "output_type": "stream",
     "text": [
      "gamma alpha "
     ]
    }
   ],
   "source": [
    "public class WordShifter {  \n",
    "    public static void main(String[] args) {\n",
    "        String[] words = {\"alpha\", \"beta\", \"gamma\", \"delta\"};\n",
    "        int shiftWord = 2;\n",
    "\n",
    "        // Shift the words in the array\n",
    "        for (int count = 0; count < shiftWord; count++) {\n",
    "            String temp = words[0];\n",
    "            for (int index = 0; index < words.length - 1; index++) {\n",
    "                words[index] = words[index + 1];\n",
    "            }\n",
    "            words[words.length - 1] = temp;\n",
    "        }\n",
    "\n",
    "        // Print every other word\n",
    "        for (int i = 0; i < words.length; i += 2) {\n",
    "            System.out.print(words[i] + \" \");\n",
    "        }\n",
    "    }\n",
    "}\n",
    "WordShifter.main(null)"
   ]
  }
 ],
 "metadata": {
  "kernelspec": {
   "display_name": "Java",
   "language": "java",
   "name": "java"
  },
  "language_info": {
   "codemirror_mode": "java",
   "file_extension": ".jshell",
   "mimetype": "text/x-java-source",
   "name": "Java",
   "pygments_lexer": "java",
   "version": "17.0.12+7"
  }
 },
 "nbformat": 4,
 "nbformat_minor": 2
}
