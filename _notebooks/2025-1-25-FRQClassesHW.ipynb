{
 "cells": [
  {
   "cell_type": "markdown",
   "metadata": {},
   "source": []
  },
  {
   "cell_type": "markdown",
   "metadata": {
    "vscode": {
     "languageId": "plaintext"
    }
   },
   "source": [
    "---\n",
    "layout: post\n",
    "title: Classes HW \n",
    "courses: {'csa': {'week': 7}}\n",
    "comments: True\n",
    "type: ccc\n",
    "permalink: /classeshw\n",
    "---"
   ]
  },
  {
   "cell_type": "markdown",
   "metadata": {},
   "source": []
  },
  {
   "cell_type": "code",
   "execution_count": 5,
   "metadata": {
    "vscode": {
     "languageId": "java"
    }
   },
   "outputs": [
    {
     "name": "stdout",
     "output_type": "stream",
     "text": [
      "7 TIMES 3\n",
      "7 TIMES 4\n",
      "7 TIMES 5\n",
      "7 TIMES 6\n",
      "4 TIMES 13\n",
      "4 TIMES 15\n",
      "4 TIMES 16\n"
     ]
    }
   ],
   "source": [
    "// StudyPractice Interface\n",
    "public interface StudyPractice {\n",
    "    String getProblem();\n",
    "    void nextProblem();\n",
    "}\n",
    "\n",
    "// MultPractice Class implementing StudyPractice\n",
    "class MultPractice implements StudyPractice {\n",
    "    private int first;\n",
    "    private int second;\n",
    "\n",
    "    public MultPractice(int first, int second) {\n",
    "        this.first = first;\n",
    "        this.second = second;\n",
    "    }\n",
    "\n",
    "    @Override\n",
    "    public String getProblem() {\n",
    "        return first + \" TIMES \" + second;\n",
    "    }\n",
    "\n",
    "    @Override\n",
    "    public void nextProblem() {\n",
    "        second++;\n",
    "    }\n",
    "}\n",
    "\n",
    "// Main Class to Test the Implementation\n",
    "public class Main {\n",
    "    public static void main(String[] args) {\n",
    "        // Create an instance of MultPractice\n",
    "        StudyPractice p1 = new MultPractice(7, 3);\n",
    "\n",
    "        // Print the initial problem\n",
    "        System.out.println(p1.getProblem()); // Expected: \"7 TIMES 3\"\n",
    "\n",
    "        // Call nextProblem() and print new problems\n",
    "        p1.nextProblem();\n",
    "        System.out.println(p1.getProblem()); // Expected: \"7 TIMES 4\"\n",
    "\n",
    "        p1.nextProblem();\n",
    "        System.out.println(p1.getProblem()); // Expected: \"7 TIMES 5\"\n",
    "\n",
    "        p1.nextProblem();\n",
    "        System.out.println(p1.getProblem()); // Expected: \"7 TIMES 6\"\n",
    "\n",
    "        // Another instance for different values\n",
    "        StudyPractice p2 = new MultPractice(4, 12);\n",
    "        p2.nextProblem();\n",
    "        System.out.println(p2.getProblem()); // Expected: \"4 TIMES 13\"\n",
    "\n",
    "        p2.nextProblem();\n",
    "        p2.nextProblem();\n",
    "        System.out.println(p2.getProblem()); // Expected: \"4 TIMES 15\"\n",
    "\n",
    "        p2.nextProblem();\n",
    "        System.out.println(p2.getProblem()); // Expected: \"4 TIMES 16\"\n",
    "    }\n",
    "}\n",
    "Main.main(null)"
   ]
  }
 ],
 "metadata": {
  "kernelspec": {
   "display_name": "Java",
   "language": "java",
   "name": "java"
  },
  "language_info": {
   "codemirror_mode": "java",
   "file_extension": ".jshell",
   "mimetype": "text/x-java-source",
   "name": "Java",
   "pygments_lexer": "java",
   "version": "17.0.12+7"
  }
 },
 "nbformat": 4,
 "nbformat_minor": 2
}
